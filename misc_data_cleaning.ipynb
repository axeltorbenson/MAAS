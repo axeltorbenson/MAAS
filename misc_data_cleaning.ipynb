{
 "cells": [
  {
   "attachments": {},
   "cell_type": "markdown",
   "metadata": {},
   "source": [
    "This notebook has some misc data cleaning and light data exploration. It is all over the place and the cells were run haphazardly, so do not use."
   ]
  },
  {
   "cell_type": "code",
   "execution_count": 2,
   "metadata": {},
   "outputs": [],
   "source": [
    "import pandas as pd\n",
    "import numpy as np"
   ]
  },
  {
   "cell_type": "code",
   "execution_count": 3,
   "metadata": {},
   "outputs": [],
   "source": [
    "df = pd.read_csv('fight_data_clean.csv')"
   ]
  },
  {
   "cell_type": "code",
   "execution_count": 4,
   "metadata": {},
   "outputs": [
    {
     "name": "stdout",
     "output_type": "stream",
     "text": [
      "method\n",
      "Decision - Unanimous       2493\n",
      "KO/TKO                     2203\n",
      "Submission                 1344\n",
      "Decision - Split            678\n",
      "Decision - Majority          87\n",
      "TKO - Doctor's Stoppage      80\n",
      "Overturned                   50\n",
      "Could Not Continue           22\n",
      "DQ                           20\n",
      "Other                         1\n",
      "Name: count, dtype: int64\n"
     ]
    }
   ],
   "source": [
    "unique_values = df['method'].value_counts()\n",
    "print(unique_values.sort_values(ascending=False))"
   ]
  },
  {
   "cell_type": "code",
   "execution_count": 17,
   "metadata": {},
   "outputs": [
    {
     "name": "stdout",
     "output_type": "stream",
     "text": [
      "[{'link': 'http://www.ufcstats.com/event-details/b9415726dc3ec526', 'name': 'UFC Fight Night: Vettori vs. Cannonier', 'date': 'June 17, 2023'}, {'link': 'http://www.ufcstats.com/event-details/b6c6d1731ff00eeb', 'name': 'UFC 289: Nunes vs. Aldana', 'date': 'June 10, 2023'}, {'link': 'http://www.ufcstats.com/event-details/7abe471b61725980', 'name': 'UFC Fight Night: Kara-France vs. Albazi', 'date': 'June 03, 2023'}, {'link': 'http://www.ufcstats.com/event-details/6f812143641ceff8', 'name': 'UFC Fight Night: Dern vs. Hill', 'date': 'May 20, 2023'}, {'link': 'http://www.ufcstats.com/event-details/901cddcbfa079097', 'name': 'UFC Fight Night: Rozenstruik vs. Almeida', 'date': 'May 13, 2023'}, {'link': 'http://www.ufcstats.com/event-details/3c6976f8182d9527', 'name': 'UFC 288: Sterling vs. Cejudo', 'date': 'May 06, 2023'}, {'link': 'http://www.ufcstats.com/event-details/51b1e2fd9872005b', 'name': 'UFC Fight Night: Song vs. Simon', 'date': 'April 29, 2023'}, {'link': 'http://www.ufcstats.com/event-details/6fb1ba67bef41b37', 'name': 'UFC Fight Night: Pavlovich vs. Blaydes', 'date': 'April 22, 2023'}, {'link': 'http://www.ufcstats.com/event-details/15b1b21cd743d652', 'name': 'UFC Fight Night: Holloway vs. Allen', 'date': 'April 15, 2023'}, {'link': 'http://www.ufcstats.com/event-details/3dc3022232b79c7a', 'name': 'UFC 287: Pereira vs. Adesanya 2', 'date': 'April 08, 2023'}, {'link': 'http://www.ufcstats.com/event-details/aec273fcb765330d', 'name': 'UFC Fight Night: Vera vs. Sandhagen', 'date': 'March 25, 2023'}, {'link': 'http://www.ufcstats.com/event-details/e4bb7e483c4ad318', 'name': 'UFC 286: Edwards vs. Usman 3', 'date': 'March 18, 2023'}, {'link': 'http://www.ufcstats.com/event-details/35080a7f406f9ab3', 'name': 'UFC Fight Night: Yan vs. Dvalishvili', 'date': 'March 11, 2023'}, {'link': 'http://www.ufcstats.com/event-details/1ccff7f0cfdf85eb', 'name': 'UFC 285: Jones vs. Gane', 'date': 'March 04, 2023'}, {'link': 'http://www.ufcstats.com/event-details/806975e1b4f47b27', 'name': 'UFC Fight Night: Muniz vs. Allen', 'date': 'February 25, 2023'}, {'link': 'http://www.ufcstats.com/event-details/f21a3d68fb9df387', 'name': 'UFC Fight Night: Andrade vs. Blanchfield', 'date': 'February 18, 2023'}, {'link': 'http://www.ufcstats.com/event-details/01dd4cdc2446f665', 'name': 'UFC 284: Makhachev vs. Volkanovski', 'date': 'February 11, 2023'}, {'link': 'http://www.ufcstats.com/event-details/d26394fc0e8e880a', 'name': 'UFC Fight Night: Lewis vs. Spivac', 'date': 'February 04, 2023'}, {'link': 'http://www.ufcstats.com/event-details/5717efc6f271cd52', 'name': 'UFC 283: Teixeira vs. Hill', 'date': 'January 21, 2023'}, {'link': 'http://www.ufcstats.com/event-details/2e2cdb6e9eb84bb9', 'name': 'UFC Fight Night: Strickland vs. Imavov', 'date': 'January 14, 2023'}, {'link': 'http://www.ufcstats.com/event-details/56ec58954158966a', 'name': 'UFC Fight Night: Cannonier vs. Strickland', 'date': 'December 17, 2022'}, {'link': 'http://www.ufcstats.com/event-details/f65a0eb902f9476b', 'name': 'UFC 282: Blachowicz vs. Ankalaev', 'date': 'December 10, 2022'}, {'link': 'http://www.ufcstats.com/event-details/b23388ff8ac6637b', 'name': 'UFC Fight Night: Thompson vs. Holland', 'date': 'December 03, 2022'}, {'link': 'http://www.ufcstats.com/event-details/012fc7cd0779c09a', 'name': 'UFC Fight Night: Nzechukwu vs. Cutelaba', 'date': 'November 19, 2022'}, {'link': 'http://www.ufcstats.com/event-details/b3b6e80b7d5f8f0d', 'name': 'UFC 281: Adesanya vs. Pereira', 'date': 'November 12, 2022'}, {'link': 'http://www.ufcstats.com/event-details/756f45905fb20cb5', 'name': 'UFC Fight Night: Rodriguez vs. Lemos', 'date': 'November 05, 2022'}, {'link': 'http://www.ufcstats.com/event-details/be5aab761c40ef35', 'name': 'UFC Fight Night: Kattar vs. Allen', 'date': 'October 29, 2022'}, {'link': 'http://www.ufcstats.com/event-details/885e7f70dcac0007', 'name': 'UFC 280: Oliveira vs. Makhachev', 'date': 'October 22, 2022'}, {'link': 'http://www.ufcstats.com/event-details/49c29e57d4e2be6f', 'name': 'UFC Fight Night: Grasso vs. Araujo', 'date': 'October 15, 2022'}, {'link': 'http://www.ufcstats.com/event-details/4f670b7972fa0a2e', 'name': 'UFC Fight Night: Dern vs. Yan', 'date': 'October 01, 2022'}, {'link': 'http://www.ufcstats.com/event-details/8d477c3fbe001f9d', 'name': 'UFC Fight Night: Sandhagen vs. Song', 'date': 'September 17, 2022'}, {'link': 'http://www.ufcstats.com/event-details/93bf96be327fcd98', 'name': 'UFC 279: Diaz vs. Ferguson', 'date': 'September 10, 2022'}, {'link': 'http://www.ufcstats.com/event-details/00a905a4a4a2b071', 'name': 'UFC Fight Night: Gane vs. Tuivasa', 'date': 'September 03, 2022'}, {'link': 'http://www.ufcstats.com/event-details/4f853e98886283cf', 'name': 'UFC 278: Usman vs. Edwards', 'date': 'August 20, 2022'}, {'link': 'http://www.ufcstats.com/event-details/a23e63184c65f5b8', 'name': 'UFC Fight Night: Vera vs. Cruz', 'date': 'August 13, 2022'}, {'link': 'http://www.ufcstats.com/event-details/8f6a18831a120817', 'name': 'UFC Fight Night: Santos vs. Hill', 'date': 'August 06, 2022'}, {'link': 'http://www.ufcstats.com/event-details/b0a6124751a56bc4', 'name': 'UFC 277: Pena vs. Nunes 2', 'date': 'July 30, 2022'}, {'link': 'http://www.ufcstats.com/event-details/319c15b8aac5bfde', 'name': 'UFC Fight Night: Blaydes vs. Aspinall', 'date': 'July 23, 2022'}, {'link': 'http://www.ufcstats.com/event-details/8fd76e1b49c00ae2', 'name': 'UFC Fight Night: Ortega vs. Rodriguez', 'date': 'July 16, 2022'}, {'link': 'http://www.ufcstats.com/event-details/31da66df48c0c1a0', 'name': 'UFC Fight Night: Dos Anjos vs. Fiziev', 'date': 'July 09, 2022'}, {'link': 'http://www.ufcstats.com/event-details/4a9e305633f3ef47', 'name': 'UFC 276: Adesanya vs. Cannonier', 'date': 'July 02, 2022'}, {'link': 'http://www.ufcstats.com/event-details/eb42d4febfafefd1', 'name': 'UFC Fight Night: Tsarukyan vs. Gamrot', 'date': 'June 25, 2022'}, {'link': 'http://www.ufcstats.com/event-details/a0a680fe2f6cc8e6', 'name': 'UFC Fight Night: Kattar vs. Emmett', 'date': 'June 18, 2022'}, {'link': 'http://www.ufcstats.com/event-details/3a24769a4855040a', 'name': 'UFC 275: Teixeira vs. Prochazka', 'date': 'June 11, 2022'}, {'link': 'http://www.ufcstats.com/event-details/57591bbf1623574e', 'name': 'UFC Fight Night: Volkov vs. Rozenstruik', 'date': 'June 04, 2022'}, {'link': 'http://www.ufcstats.com/event-details/a6c32678efd4f434', 'name': 'UFC Fight Night: Holm vs. Vieira', 'date': 'May 21, 2022'}, {'link': 'http://www.ufcstats.com/event-details/60ba33c3f555a7a3', 'name': 'UFC Fight Night: Blachowicz vs. Rakic', 'date': 'May 14, 2022'}, {'link': 'http://www.ufcstats.com/event-details/253d3f9e97ca149a', 'name': 'UFC 274: Oliveira vs. Gaethje', 'date': 'May 07, 2022'}, {'link': 'http://www.ufcstats.com/event-details/6bf5a7d3e081ade2', 'name': 'UFC Fight Night: Font vs. Vera', 'date': 'April 30, 2022'}, {'link': 'http://www.ufcstats.com/event-details/236a37d96d476164', 'name': 'UFC Fight Night: Lemos vs. Andrade', 'date': 'April 23, 2022'}, {'link': 'http://www.ufcstats.com/event-details/8753e125f4499816', 'name': 'UFC Fight Night: Luque vs. Muhammad', 'date': 'April 16, 2022'}, {'link': 'http://www.ufcstats.com/event-details/3a97fda0de6f1fa4', 'name': 'UFC 273: Volkanovski vs. The Korean Zombie', 'date': 'April 09, 2022'}, {'link': 'http://www.ufcstats.com/event-details/1fac46d466abd5b8', 'name': 'UFC Fight Night: Blaydes vs. Daukaus', 'date': 'March 26, 2022'}, {'link': 'http://www.ufcstats.com/event-details/1d00756835ca67c9', 'name': 'UFC Fight Night: Volkov vs. Aspinall', 'date': 'March 19, 2022'}, {'link': 'http://www.ufcstats.com/event-details/1f9344211ca7fd60', 'name': 'UFC Fight Night: Santos vs. Ankalaev', 'date': 'March 12, 2022'}, {'link': 'http://www.ufcstats.com/event-details/75e0d3cc2262b732', 'name': 'UFC 272: Covington vs. Masvidal', 'date': 'March 05, 2022'}, {'link': 'http://www.ufcstats.com/event-details/f6a7b02c42e9fc5b', 'name': 'UFC Fight Night: Makhachev vs. Green', 'date': 'February 26, 2022'}, {'link': 'http://www.ufcstats.com/event-details/77940e45bc86208e', 'name': 'UFC Fight Night: Walker vs. Hill', 'date': 'February 19, 2022'}, {'link': 'http://www.ufcstats.com/event-details/cbb682f5fcc44bfc', 'name': 'UFC 271: Adesanya vs. Whittaker 2', 'date': 'February 12, 2022'}, {'link': 'http://www.ufcstats.com/event-details/883922e5cd6d8473', 'name': 'UFC Fight Night: Hermansson vs. Strickland', 'date': 'February 05, 2022'}, {'link': 'http://www.ufcstats.com/event-details/335ad945324c3a2e', 'name': 'UFC 270: Ngannou vs. Gane', 'date': 'January 22, 2022'}, {'link': 'http://www.ufcstats.com/event-details/f5585e675af7afd4', 'name': 'UFC Fight Night: Kattar vs. Chikadze', 'date': 'January 15, 2022'}, {'link': 'http://www.ufcstats.com/event-details/2a470ad41c22c25a', 'name': 'UFC Fight Night: Lewis vs. Daukaus', 'date': 'December 18, 2021'}, {'link': 'http://www.ufcstats.com/event-details/ef927e4fe2117ab8', 'name': 'UFC 269: Oliveira vs. Poirier', 'date': 'December 11, 2021'}, {'link': 'http://www.ufcstats.com/event-details/509697e08673d2e5', 'name': 'UFC Fight Night: Font vs. Aldo', 'date': 'December 04, 2021'}, {'link': 'http://www.ufcstats.com/event-details/c95fbc085e17a532', 'name': 'UFC Fight Night: Vieira vs. Tate', 'date': 'November 20, 2021'}, {'link': 'http://www.ufcstats.com/event-details/b5abaa65f87938eb', 'name': 'UFC Fight Night: Holloway vs. Rodriguez', 'date': 'November 13, 2021'}, {'link': 'http://www.ufcstats.com/event-details/48e093ea1f43a053', 'name': 'UFC 268: Usman vs. Covington 2', 'date': 'November 06, 2021'}, {'link': 'http://www.ufcstats.com/event-details/3974fa35c917af1d', 'name': 'UFC 267: Blachowicz vs. Teixeira', 'date': 'October 30, 2021'}, {'link': 'http://www.ufcstats.com/event-details/8a9c6c4301f6d088', 'name': 'UFC Fight Night: Costa vs. Vettori', 'date': 'October 23, 2021'}, {'link': 'http://www.ufcstats.com/event-details/8f4616698508f24d', 'name': 'UFC Fight Night: Ladd vs. Dumont', 'date': 'October 16, 2021'}, {'link': 'http://www.ufcstats.com/event-details/d247691a6c0e9034', 'name': 'UFC Fight Night: Dern vs. Rodriguez', 'date': 'October 09, 2021'}, {'link': 'http://www.ufcstats.com/event-details/e15d0a2519d6a0b5', 'name': 'UFC Fight Night: Santos vs. Walker', 'date': 'October 02, 2021'}, {'link': 'http://www.ufcstats.com/event-details/0eec866a077889f0', 'name': 'UFC 266: Volkanovski vs. Ortega', 'date': 'September 25, 2021'}, {'link': 'http://www.ufcstats.com/event-details/4c27ca8c8481f79a', 'name': 'UFC Fight Night: Smith vs. Spann', 'date': 'September 18, 2021'}, {'link': 'http://www.ufcstats.com/event-details/b9532d815060de7f', 'name': 'UFC Fight Night: Brunson vs. Till', 'date': 'September 04, 2021'}, {'link': 'http://www.ufcstats.com/event-details/0db9d2486d564a3c', 'name': 'UFC Fight Night: Barboza vs. Chikadze', 'date': 'August 28, 2021'}, {'link': 'http://www.ufcstats.com/event-details/2f13e4020cea5b38', 'name': 'UFC Fight Night: Cannonier vs. Gastelum', 'date': 'August 21, 2021'}, {'link': 'http://www.ufcstats.com/event-details/972197a8c61ac413', 'name': 'UFC 265: Lewis vs. Gane', 'date': 'August 07, 2021'}, {'link': 'http://www.ufcstats.com/event-details/320edfb0332b7073', 'name': 'UFC Fight Night: Hall vs. Strickland', 'date': 'July 31, 2021'}, {'link': 'http://www.ufcstats.com/event-details/e57f0b06ea39e360', 'name': 'UFC Fight Night: Sandhagen vs. Dillashaw', 'date': 'July 24, 2021'}, {'link': 'http://www.ufcstats.com/event-details/40389d39a92f5bfa', 'name': 'UFC Fight Night: Makhachev vs. Moises', 'date': 'July 17, 2021'}, {'link': 'http://www.ufcstats.com/event-details/8a0be41c0380188d', 'name': 'UFC 264: Poirier vs. McGregor 3', 'date': 'July 10, 2021'}, {'link': 'http://www.ufcstats.com/event-details/a1d6b308781aa2f5', 'name': 'UFC Fight Night: Gane vs. Volkov', 'date': 'June 26, 2021'}, {'link': 'http://www.ufcstats.com/event-details/9ddfb3369a3b0394', 'name': 'UFC Fight Night: Jung vs. Ige', 'date': 'June 19, 2021'}, {'link': 'http://www.ufcstats.com/event-details/0b64d0fed453ef7f', 'name': 'UFC 263: Adesanya vs. Vettori 2', 'date': 'June 12, 2021'}, {'link': 'http://www.ufcstats.com/event-details/3b2485c8d5c8b580', 'name': 'UFC Fight Night: Rozenstruik vs. Sakai', 'date': 'June 05, 2021'}, {'link': 'http://www.ufcstats.com/event-details/277ffed20cf07aea', 'name': 'UFC Fight Night: Font vs. Garbrandt', 'date': 'May 22, 2021'}, {'link': 'http://www.ufcstats.com/event-details/744f50016c39c26c', 'name': 'UFC 262: Oliveira vs. Chandler', 'date': 'May 15, 2021'}, {'link': 'http://www.ufcstats.com/event-details/58a36b4ccf5dc30e', 'name': 'UFC Fight Night: Rodriguez vs. Waterson', 'date': 'May 08, 2021'}, {'link': 'http://www.ufcstats.com/event-details/d57e6a8971b6d2bd', 'name': 'UFC Fight Night: Reyes vs. Prochazka', 'date': 'May 01, 2021'}, {'link': 'http://www.ufcstats.com/event-details/27541033b97c076d', 'name': 'UFC 261: Usman vs. Masvidal 2', 'date': 'April 24, 2021'}, {'link': 'http://www.ufcstats.com/event-details/4a35913bd9aa4161', 'name': 'UFC Fight Night: Whittaker vs. Gastelum', 'date': 'April 17, 2021'}, {'link': 'http://www.ufcstats.com/event-details/9114c8ded5ccd71d', 'name': 'UFC Fight Night: Vettori vs. Holland', 'date': 'April 10, 2021'}, {'link': 'http://www.ufcstats.com/event-details/6597b611f1c32555', 'name': 'UFC 260: Miocic vs. Ngannou', 'date': 'March 27, 2021'}, {'link': 'http://www.ufcstats.com/event-details/c36e1f4fa755ffb4', 'name': 'UFC Fight Night: Brunson vs. Holland', 'date': 'March 20, 2021'}, {'link': 'http://www.ufcstats.com/event-details/8c90c1563972e44d', 'name': 'UFC Fight Night: Edwards vs. Muhammad', 'date': 'March 13, 2021'}, {'link': 'http://www.ufcstats.com/event-details/6e2b1d631832921d', 'name': 'UFC 259: Blachowicz vs. Adesanya', 'date': 'March 06, 2021'}, {'link': 'http://www.ufcstats.com/event-details/81b57acd6975ac06', 'name': 'UFC Fight Night: Rozenstruik vs. Gane', 'date': 'February 27, 2021'}, {'link': 'http://www.ufcstats.com/event-details/bfe95ec546692b13', 'name': 'UFC Fight Night: Blaydes vs. Lewis', 'date': 'February 20, 2021'}, {'link': 'http://www.ufcstats.com/event-details/3f7c14c7eca7195d', 'name': 'UFC 258: Usman vs. Burns', 'date': 'February 13, 2021'}, {'link': 'http://www.ufcstats.com/event-details/a1153013cb5f628f', 'name': 'UFC Fight Night: Overeem vs. Volkov', 'date': 'February 06, 2021'}, {'link': 'http://www.ufcstats.com/event-details/4304992c2acc187b', 'name': 'UFC 257: Poirier vs. McGregor', 'date': 'January 23, 2021'}, {'link': 'http://www.ufcstats.com/event-details/56116537d71a578c', 'name': 'UFC Fight Night: Chiesa vs. Magny', 'date': 'January 20, 2021'}, {'link': 'http://www.ufcstats.com/event-details/307064d3e0f036c2', 'name': 'UFC Fight Night: Holloway vs. Kattar', 'date': 'January 16, 2021'}, {'link': 'http://www.ufcstats.com/event-details/e49c2db95e572dc8', 'name': 'UFC Fight Night: Thompson vs. Neal', 'date': 'December 19, 2020'}, {'link': 'http://www.ufcstats.com/event-details/d0d43cb9b14f231c', 'name': 'UFC 256: Figueiredo vs. Moreno', 'date': 'December 12, 2020'}, {'link': 'http://www.ufcstats.com/event-details/398b440e73d55b8b', 'name': 'UFC Fight Night: Hermansson vs. Vettori', 'date': 'December 05, 2020'}, {'link': 'http://www.ufcstats.com/event-details/992c82450d96f726', 'name': 'UFC Fight Night: Smith vs. Clark', 'date': 'November 28, 2020'}, {'link': 'http://www.ufcstats.com/event-details/bbb15f301e4a490a', 'name': 'UFC 255: Figueiredo vs. Perez', 'date': 'November 21, 2020'}, {'link': 'http://www.ufcstats.com/event-details/3bc27ec15facbcf3', 'name': 'UFC Fight Night: Felder vs. Dos Anjos', 'date': 'November 14, 2020'}, {'link': 'http://www.ufcstats.com/event-details/41dca66f9dadfc86', 'name': 'UFC Fight Night: Santos vs. Teixeira', 'date': 'November 07, 2020'}, {'link': 'http://www.ufcstats.com/event-details/ad044be25c94dcfd', 'name': 'UFC Fight Night: Hall vs. Silva', 'date': 'October 31, 2020'}, {'link': 'http://www.ufcstats.com/event-details/c3c38c86f5ab9b5c', 'name': 'UFC 254: Khabib vs. Gaethje', 'date': 'October 24, 2020'}, {'link': 'http://www.ufcstats.com/event-details/d4f364dd076bb0e2', 'name': 'UFC Fight Night: Ortega vs. The Korean Zombie', 'date': 'October 17, 2020'}, {'link': 'http://www.ufcstats.com/event-details/fd4578cac86d75ca', 'name': 'UFC Fight Night: Moraes vs. Sandhagen', 'date': 'October 10, 2020'}, {'link': 'http://www.ufcstats.com/event-details/805ad1801eb26abb', 'name': 'UFC Fight Night: Holm vs. Aldana', 'date': 'October 03, 2020'}, {'link': 'http://www.ufcstats.com/event-details/e69c5ce12f4e762b', 'name': 'UFC 253: Adesanya vs. Costa', 'date': 'September 26, 2020'}, {'link': 'http://www.ufcstats.com/event-details/831b937811804dad', 'name': 'UFC Fight Night: Covington vs. Woodley', 'date': 'September 19, 2020'}, {'link': 'http://www.ufcstats.com/event-details/9c37681096c6f3a9', 'name': 'UFC Fight Night: Waterson vs. Hill', 'date': 'September 12, 2020'}, {'link': 'http://www.ufcstats.com/event-details/542db012217ecb83', 'name': 'UFC Fight Night: Overeem vs. Sakai', 'date': 'September 05, 2020'}, {'link': 'http://www.ufcstats.com/event-details/e29cf523ebd155c5', 'name': 'UFC Fight Night: Smith vs. Rakic', 'date': 'August 29, 2020'}, {'link': 'http://www.ufcstats.com/event-details/af1e5c64b8663aa0', 'name': 'UFC Fight Night: Munhoz vs. Edgar', 'date': 'August 22, 2020'}, {'link': 'http://www.ufcstats.com/event-details/bda04c573563cc2e', 'name': 'UFC 252: Miocic vs. Cormier 3', 'date': 'August 15, 2020'}, {'link': 'http://www.ufcstats.com/event-details/7a82635ffa9b59fe', 'name': 'UFC Fight Night: Lewis vs. Oleinik', 'date': 'August 08, 2020'}, {'link': 'http://www.ufcstats.com/event-details/3746e21bb508391a', 'name': 'UFC Fight Night: Brunson vs. Shahbazyan', 'date': 'August 01, 2020'}, {'link': 'http://www.ufcstats.com/event-details/dde70a112e053a6c', 'name': 'UFC Fight Night: Whittaker vs. Till', 'date': 'July 25, 2020'}, {'link': 'http://www.ufcstats.com/event-details/ddbd0d6259ce57cc', 'name': 'UFC Fight Night: Figueiredo vs. Benavidez 2', 'date': 'July 18, 2020'}, {'link': 'http://www.ufcstats.com/event-details/18f5669a92e99d92', 'name': 'UFC Fight Night: Kattar vs. Ige', 'date': 'July 15, 2020'}, {'link': 'http://www.ufcstats.com/event-details/dbd198f780286aca', 'name': 'UFC 251: Usman vs. Masvidal', 'date': 'July 11, 2020'}, {'link': 'http://www.ufcstats.com/event-details/c32eab6c2119e989', 'name': 'UFC Fight Night: Poirier vs. Hooker', 'date': 'June 27, 2020'}, {'link': 'http://www.ufcstats.com/event-details/2eab7a6c8b0ed8cc', 'name': 'UFC Fight Night: Blaydes vs. Volkov', 'date': 'June 20, 2020'}, {'link': 'http://www.ufcstats.com/event-details/1e13936d708bcff7', 'name': 'UFC Fight Night: Eye vs. Calvillo', 'date': 'June 13, 2020'}, {'link': 'http://www.ufcstats.com/event-details/4c12aa7ca246e7a4', 'name': 'UFC 250: Nunes vs. Spencer', 'date': 'June 06, 2020'}, {'link': 'http://www.ufcstats.com/event-details/14b9e0f2679a2205', 'name': 'UFC Fight Night: Woodley vs. Burns', 'date': 'May 30, 2020'}, {'link': 'http://www.ufcstats.com/event-details/dfb965c9824425db', 'name': 'UFC Fight Night: Overeem vs. Harris', 'date': 'May 16, 2020'}, {'link': 'http://www.ufcstats.com/event-details/5f8e00c27b7e7410', 'name': 'UFC Fight Night: Smith vs. Teixeira', 'date': 'May 13, 2020'}, {'link': 'http://www.ufcstats.com/event-details/898337ef520fe4d3', 'name': 'UFC 249: Ferguson vs. Gaethje', 'date': 'May 09, 2020'}, {'link': 'http://www.ufcstats.com/event-details/53278852bcd91e11', 'name': 'UFC Fight Night: Lee vs. Oliveira', 'date': 'March 14, 2020'}, {'link': 'http://www.ufcstats.com/event-details/0b5b6876c2a4723f', 'name': 'UFC 248: Adesanya vs. Romero', 'date': 'March 07, 2020'}, {'link': 'http://www.ufcstats.com/event-details/fc9a9559a05f2704', 'name': 'UFC Fight Night: Benavidez vs. Figueiredo', 'date': 'February 29, 2020'}, {'link': 'http://www.ufcstats.com/event-details/33b2f68ef95252e0', 'name': 'UFC Fight Night: Felder vs. Hooker', 'date': 'February 22, 2020'}, {'link': 'http://www.ufcstats.com/event-details/5df17b3620145578', 'name': 'UFC Fight Night: Anderson vs. Blachowicz', 'date': 'February 15, 2020'}, {'link': 'http://www.ufcstats.com/event-details/b26d3e3746fb4024', 'name': 'UFC 247: Jones vs. Reyes', 'date': 'February 08, 2020'}, {'link': 'http://www.ufcstats.com/event-details/44aa652b181bcf68', 'name': 'UFC Fight Night: Blaydes vs. Dos Santos', 'date': 'January 25, 2020'}, {'link': 'http://www.ufcstats.com/event-details/0c1773639c795466', 'name': 'UFC 246: McGregor vs. Cowboy', 'date': 'January 18, 2020'}, {'link': 'http://www.ufcstats.com/event-details/74fefd43f073cd2f', 'name': 'UFC Fight Night: Edgar vs. The Korean Zombie', 'date': 'December 21, 2019'}, {'link': 'http://www.ufcstats.com/event-details/4565d435005319c0', 'name': 'UFC 245: Usman vs. Covington', 'date': 'December 14, 2019'}, {'link': 'http://www.ufcstats.com/event-details/b09890ba7ce1d1e2', 'name': 'UFC Fight Night: Overeem vs. Rozenstruik', 'date': 'December 07, 2019'}, {'link': 'http://www.ufcstats.com/event-details/81ca2c245b19b3c5', 'name': 'UFC Fight Night: Blachowicz vs. Jacare', 'date': 'November 16, 2019'}, {'link': 'http://www.ufcstats.com/event-details/8d5daf67983b65ba', 'name': 'UFC Fight Night: Zabit vs. Kattar', 'date': 'November 09, 2019'}, {'link': 'http://www.ufcstats.com/event-details/fd87b1bbfcde9d5e', 'name': 'UFC 244: Masvidal vs. Diaz', 'date': 'November 02, 2019'}, {'link': 'http://www.ufcstats.com/event-details/df05aa15b2d66f57', 'name': 'UFC Fight Night: Maia vs. Askren', 'date': 'October 26, 2019'}, {'link': 'http://www.ufcstats.com/event-details/3ae10ac4df3df05c', 'name': 'UFC Fight Night: Reyes vs. Weidman', 'date': 'October 18, 2019'}, {'link': 'http://www.ufcstats.com/event-details/0941df56f6ac954b', 'name': 'UFC Fight Night: Joanna vs. Waterson', 'date': 'October 12, 2019'}, {'link': 'http://www.ufcstats.com/event-details/3cf68c1d17f66af7', 'name': 'UFC 243: Whittaker vs. Adesanya', 'date': 'October 05, 2019'}, {'link': 'http://www.ufcstats.com/event-details/1bf49bf829964144', 'name': 'UFC Fight Night: Hermansson vs. Cannonier', 'date': 'September 28, 2019'}, {'link': 'http://www.ufcstats.com/event-details/94a5aaf573f780ad', 'name': 'UFC Fight Night: Rodriguez vs. Stephens', 'date': 'September 21, 2019'}, {'link': 'http://www.ufcstats.com/event-details/4834ff149dc9542a', 'name': 'UFC Fight Night: Cowboy vs. Gaethje', 'date': 'September 14, 2019'}, {'link': 'http://www.ufcstats.com/event-details/a79bfbc01b2264d6', 'name': 'UFC 242: Khabib vs. Poirier', 'date': 'September 07, 2019'}, {'link': 'http://www.ufcstats.com/event-details/2c104b7e59a72629', 'name': 'UFC Fight Night: Andrade vs. Zhang', 'date': 'August 31, 2019'}, {'link': 'http://www.ufcstats.com/event-details/70167689d6a01793', 'name': 'UFC 241: Cormier vs. Miocic 2', 'date': 'August 17, 2019'}, {'link': 'http://www.ufcstats.com/event-details/e5d03e4d966126bd', 'name': 'UFC Fight Night: Shevchenko vs. Carmouche 2', 'date': 'August 10, 2019'}, {'link': 'http://www.ufcstats.com/event-details/03da33a102d9a45f', 'name': 'UFC Fight Night: Covington vs. Lawler', 'date': 'August 03, 2019'}, {'link': 'http://www.ufcstats.com/event-details/abcf7e55a0a9ed89', 'name': 'UFC 240: Holloway vs. Edgar', 'date': 'July 27, 2019'}, {'link': 'http://www.ufcstats.com/event-details/9e0f28d1f639ad73', 'name': 'UFC Fight Night: Dos Anjos vs. Edwards', 'date': 'July 20, 2019'}, {'link': 'http://www.ufcstats.com/event-details/2f8f3c69522db931', 'name': 'UFC Fight Night: De Randamie vs. Ladd', 'date': 'July 13, 2019'}, {'link': 'http://www.ufcstats.com/event-details/6c9383ffab2725a5', 'name': 'UFC 239: Jones vs. Santos', 'date': 'July 06, 2019'}, {'link': 'http://www.ufcstats.com/event-details/c0c1bc0766df4c00', 'name': 'UFC Fight Night: Ngannou vs. Dos Santos', 'date': 'June 29, 2019'}, {'link': 'http://www.ufcstats.com/event-details/b16a7e6a627e9789', 'name': 'UFC Fight Night: Moicano vs. The Korean Zombie', 'date': 'June 22, 2019'}, {'link': 'http://www.ufcstats.com/event-details/e31502e3f79d00c5', 'name': 'UFC 238: Cejudo vs. Moraes', 'date': 'June 08, 2019'}, {'link': 'http://www.ufcstats.com/event-details/cbc071cb20ea59c7', 'name': 'UFC Fight Night: Gustafsson vs. Smith', 'date': 'June 01, 2019'}, {'link': 'http://www.ufcstats.com/event-details/6b8f28da9a483049', 'name': 'UFC Fight Night: Dos Anjos vs. Lee', 'date': 'May 18, 2019'}, {'link': 'http://www.ufcstats.com/event-details/9de7c97e1c0d7927', 'name': 'UFC 237: Namajunas vs. Andrade', 'date': 'May 11, 2019'}, {'link': 'http://www.ufcstats.com/event-details/351264d11286d09a', 'name': 'UFC Fight Night: Iaquinta vs. Cowboy', 'date': 'May 04, 2019'}, {'link': 'http://www.ufcstats.com/event-details/c912f676692c353a', 'name': 'UFC Fight Night: Jacare vs. Hermansson', 'date': 'April 27, 2019'}, {'link': 'http://www.ufcstats.com/event-details/7dcf06c1967801c1', 'name': 'UFC Fight Night: Overeem vs. Oleinik', 'date': 'April 20, 2019'}, {'link': 'http://www.ufcstats.com/event-details/b0550072e5f0afa7', 'name': 'UFC 236: Holloway vs. Poirier 2', 'date': 'April 13, 2019'}, {'link': 'http://www.ufcstats.com/event-details/9649d75defe0dedb', 'name': 'UFC Fight Night: Barboza vs. Gaethje', 'date': 'March 30, 2019'}, {'link': 'http://www.ufcstats.com/event-details/487c170da059857d', 'name': 'UFC Fight Night: Thompson vs. Pettis', 'date': 'March 23, 2019'}, {'link': 'http://www.ufcstats.com/event-details/80eacd4da0617c57', 'name': 'UFC Fight Night: Till vs. Masvidal', 'date': 'March 16, 2019'}, {'link': 'http://www.ufcstats.com/event-details/e96d8538d3f9d0ed', 'name': 'UFC Fight Night: Lewis vs. Dos Santos', 'date': 'March 09, 2019'}, {'link': 'http://www.ufcstats.com/event-details/2d5fbe2103f97053', 'name': 'UFC 235: Jones vs. Smith', 'date': 'March 02, 2019'}, {'link': 'http://www.ufcstats.com/event-details/6546af7ab545b90c', 'name': 'UFC Fight Night: Blachowicz vs. Santos', 'date': 'February 23, 2019'}, {'link': 'http://www.ufcstats.com/event-details/a7a79b8efbceaaac', 'name': 'UFC Fight Night: Ngannou vs. Velasquez', 'date': 'February 17, 2019'}, {'link': 'http://www.ufcstats.com/event-details/b5882371e2a3900d', 'name': 'UFC 234: Adesanya vs. Silva', 'date': 'February 09, 2019'}, {'link': 'http://www.ufcstats.com/event-details/84283233ec42be5f', 'name': 'UFC Fight Night: Assuncao vs. Moraes 2', 'date': 'February 02, 2019'}, {'link': 'http://www.ufcstats.com/event-details/d4da8995fc91e7ef', 'name': 'UFC Fight Night: Cejudo vs. Dillashaw', 'date': 'January 19, 2019'}, {'link': 'http://www.ufcstats.com/event-details/c046100aea0dba9a', 'name': 'UFC 232: Jones vs. Gustafsson 2', 'date': 'December 29, 2018'}, {'link': 'http://www.ufcstats.com/event-details/7a703c565ccaa18f', 'name': 'UFC Fight Night: Lee vs. Iaquinta', 'date': 'December 15, 2018'}, {'link': 'http://www.ufcstats.com/event-details/2a74bbba57058f12', 'name': 'UFC 231: Holloway vs. Ortega', 'date': 'December 08, 2018'}, {'link': 'http://www.ufcstats.com/event-details/d1d20e651e6cbc02', 'name': 'UFC Fight Night: Dos Santos vs. Tuivasa', 'date': 'December 01, 2018'}, {'link': 'http://www.ufcstats.com/event-details/c7ac79839e86ce33', 'name': 'The Ultimate Fighter: Heavy Hitters Finale', 'date': 'November 30, 2018'}, {'link': 'http://www.ufcstats.com/event-details/de25520d54eab12d', 'name': 'UFC Fight Night: Blaydes vs. Ngannou 2', 'date': 'November 24, 2018'}, {'link': 'http://www.ufcstats.com/event-details/aa3153a9941b4d44', 'name': 'UFC Fight Night: Magny vs. Ponzinibbio', 'date': 'November 17, 2018'}, {'link': 'http://www.ufcstats.com/event-details/42c96a9c4802e2e1', 'name': 'UFC Fight Night: Korean Zombie vs. Rodriguez', 'date': 'November 10, 2018'}, {'link': 'http://www.ufcstats.com/event-details/20821819c401ced8', 'name': 'UFC 230: Cormier vs. Lewis', 'date': 'November 03, 2018'}, {'link': 'http://www.ufcstats.com/event-details/33a331684283900f', 'name': 'UFC Fight Night: Oezdemir vs. Smith', 'date': 'October 27, 2018'}, {'link': 'http://www.ufcstats.com/event-details/1ef0eae31904e534', 'name': 'UFC 229: Khabib vs. McGregor', 'date': 'October 06, 2018'}, {'link': 'http://www.ufcstats.com/event-details/852454c572675334', 'name': 'UFC Fight Night: Marreta vs. Anders', 'date': 'September 22, 2018'}, {'link': 'http://www.ufcstats.com/event-details/8d49545dadf9b919', 'name': 'UFC Fight Night: Hunt vs. Oleinik', 'date': 'September 15, 2018'}, {'link': 'http://www.ufcstats.com/event-details/d5ae8074631762fc', 'name': 'UFC 228: Woodley vs. Till', 'date': 'September 08, 2018'}, {'link': 'http://www.ufcstats.com/event-details/c0342805a1948cbb', 'name': 'UFC Fight Night: Gaethje vs. Vick', 'date': 'August 25, 2018'}, {'link': 'http://www.ufcstats.com/event-details/03b1e846b09f721d', 'name': 'UFC 227: Dillashaw vs. Garbrandt 2', 'date': 'August 04, 2018'}, {'link': 'http://www.ufcstats.com/event-details/322a56923b396b4d', 'name': 'UFC Fight Night: Alvarez vs. Poirier 2', 'date': 'July 28, 2018'}, {'link': 'http://www.ufcstats.com/event-details/4f732e58ed907eff', 'name': 'UFC Fight Night: Shogun vs. Smith', 'date': 'July 22, 2018'}, {'link': 'http://www.ufcstats.com/event-details/b45d6b73f4ca4467', 'name': 'UFC Fight Night: Dos Santos vs. Ivanov', 'date': 'July 14, 2018'}, {'link': 'http://www.ufcstats.com/event-details/35585d970300d45a', 'name': 'UFC 226: Miocic vs. Cormier', 'date': 'July 07, 2018'}, {'link': 'http://www.ufcstats.com/event-details/8215e4fe24e8e81b', 'name': 'The Ultimate Fighter: Undefeated Finale', 'date': 'July 06, 2018'}, {'link': 'http://www.ufcstats.com/event-details/ac5f67109accb482', 'name': 'UFC Fight Night: Cowboy vs. Edwards', 'date': 'June 23, 2018'}, {'link': 'http://www.ufcstats.com/event-details/2eae41f61776c60f', 'name': 'UFC 225: Whittaker vs. Romero 2', 'date': 'June 09, 2018'}, {'link': 'http://www.ufcstats.com/event-details/d29b5c4f22c6357d', 'name': 'UFC Fight Night: Rivera vs. Moraes', 'date': 'June 01, 2018'}, {'link': 'http://www.ufcstats.com/event-details/f5990c11974d8e9c', 'name': 'UFC Fight Night: Thompson vs. Till', 'date': 'May 27, 2018'}, {'link': 'http://www.ufcstats.com/event-details/3144121470023e9a', 'name': 'UFC Fight Night: Maia vs. Usman', 'date': 'May 19, 2018'}, {'link': 'http://www.ufcstats.com/event-details/67ec58d7cf599835', 'name': 'UFC 224: Nunes vs. Pennington', 'date': 'May 12, 2018'}, {'link': 'http://www.ufcstats.com/event-details/ad99fa5325519169', 'name': 'UFC Fight Night: Barboza vs. Lee', 'date': 'April 21, 2018'}, {'link': 'http://www.ufcstats.com/event-details/620be7e0712d431b', 'name': 'UFC Fight Night: Poirier vs. Gaethje', 'date': 'April 14, 2018'}, {'link': 'http://www.ufcstats.com/event-details/49e7e05f902479ca', 'name': 'UFC 223: Khabib vs. Iaquinta', 'date': 'April 07, 2018'}, {'link': 'http://www.ufcstats.com/event-details/eed2b71d77d95416', 'name': 'UFC Fight Night: Werdum vs. Volkov', 'date': 'March 17, 2018'}, {'link': 'http://www.ufcstats.com/event-details/7929be8290289a47', 'name': 'UFC 222: Cyborg vs. Kunitskaya', 'date': 'March 03, 2018'}, {'link': 'http://www.ufcstats.com/event-details/daa89f01e1c0f42a', 'name': 'UFC Fight Night: Emmett vs. Stephens', 'date': 'February 24, 2018'}, {'link': 'http://www.ufcstats.com/event-details/d181689653115b6a', 'name': 'UFC Fight Night: Cerrone vs. Medeiros', 'date': 'February 18, 2018'}, {'link': 'http://www.ufcstats.com/event-details/15515e797aedc137', 'name': 'UFC 221: Romero vs. Rockhold', 'date': 'February 10, 2018'}, {'link': 'http://www.ufcstats.com/event-details/7cf20446453f852b', 'name': 'UFC Fight Night: Machida vs. Anders', 'date': 'February 03, 2018'}, {'link': 'http://www.ufcstats.com/event-details/602bb270f2bdbf02', 'name': 'UFC Fight Night: Jacare vs. Brunson 2', 'date': 'January 27, 2018'}, {'link': 'http://www.ufcstats.com/event-details/02177caefe7c07d4', 'name': 'UFC 220: Miocic vs. Ngannou', 'date': 'January 20, 2018'}, {'link': 'http://www.ufcstats.com/event-details/fc1868f56d3036eb', 'name': 'UFC Fight Night: Stephens vs. Choi', 'date': 'January 14, 2018'}, {'link': 'http://www.ufcstats.com/event-details/04076783ca83d6ae', 'name': 'UFC 219: Cyborg vs. Holm', 'date': 'December 30, 2017'}, {'link': 'http://www.ufcstats.com/event-details/eaa0a728cc91ef60', 'name': 'UFC Fight Night: Lawler vs. Dos Anjos', 'date': 'December 16, 2017'}, {'link': 'http://www.ufcstats.com/event-details/bcd124bcd3d5be46', 'name': 'UFC Fight Night: Swanson vs. Ortega', 'date': 'December 09, 2017'}, {'link': 'http://www.ufcstats.com/event-details/9e30f69cc0869301', 'name': 'UFC 218: Holloway vs. Aldo 2', 'date': 'December 02, 2017'}, {'link': 'http://www.ufcstats.com/event-details/30e8b4505f5ccf92', 'name': 'The Ultimate Fighter: A New World Champion Finale', 'date': 'December 01, 2017'}, {'link': 'http://www.ufcstats.com/event-details/e7bc606d269896aa', 'name': 'UFC Fight Night: Bisping vs. Gastelum', 'date': 'November 25, 2017'}, {'link': 'http://www.ufcstats.com/event-details/caced97768818230', 'name': 'UFC Fight Night: Werdum vs. Tybura', 'date': 'November 18, 2017'}, {'link': 'http://www.ufcstats.com/event-details/d856a0080ac09ed7', 'name': 'UFC Fight Night: Poirier vs. Pettis', 'date': 'November 11, 2017'}, {'link': 'http://www.ufcstats.com/event-details/a25b71fe5e31fa97', 'name': 'UFC 217: Bisping vs. St-Pierre', 'date': 'November 04, 2017'}, {'link': 'http://www.ufcstats.com/event-details/a7724f51e32e763e', 'name': 'UFC Fight Night: Brunson vs. Machida', 'date': 'October 28, 2017'}, {'link': 'http://www.ufcstats.com/event-details/d6b68eaf4b68b160', 'name': 'UFC Fight Night: Cerrone vs. Till', 'date': 'October 21, 2017'}, {'link': 'http://www.ufcstats.com/event-details/cc5834a495d1ea08', 'name': 'UFC 216: Ferguson vs. Lee', 'date': 'October 07, 2017'}, {'link': 'http://www.ufcstats.com/event-details/9211aae062b799d6', 'name': 'UFC Fight Night: Saint Preux vs. Okami', 'date': 'September 22, 2017'}, {'link': 'http://www.ufcstats.com/event-details/1979c80150f630c4', 'name': 'UFC Fight Night: Rockhold vs. Branch', 'date': 'September 16, 2017'}, {'link': 'http://www.ufcstats.com/event-details/d86e913c548c07c2', 'name': 'UFC 215: Nunes vs Shevchenko 2', 'date': 'September 09, 2017'}, {'link': 'http://www.ufcstats.com/event-details/a3244e3238541482', 'name': 'UFC Fight Night: Volkov vs. Struve', 'date': 'September 02, 2017'}, {'link': 'http://www.ufcstats.com/event-details/f4a031ac205ac580', 'name': 'UFC Fight Night: Pettis vs. Moreno', 'date': 'August 05, 2017'}, {'link': 'http://www.ufcstats.com/event-details/ff9578cdbfabd323', 'name': 'UFC 214: Cormier vs. Jones 2', 'date': 'July 29, 2017'}, {'link': 'http://www.ufcstats.com/event-details/9f3d6ddef3d3cccc', 'name': 'UFC Fight Night: Weidman vs. Gastelum', 'date': 'July 22, 2017'}, {'link': 'http://www.ufcstats.com/event-details/d7907a9a968e4d29', 'name': 'UFC Fight Night: Nelson vs. Ponzinibbio', 'date': 'July 16, 2017'}, {'link': 'http://www.ufcstats.com/event-details/686cccbf1a4de453', 'name': 'UFC 213: Romero vs. Whittaker', 'date': 'July 08, 2017'}, {'link': 'http://www.ufcstats.com/event-details/23bd78c3f89bdb54', 'name': 'The Ultimate Fighter: Redemption Finale', 'date': 'July 07, 2017'}, {'link': 'http://www.ufcstats.com/event-details/99bf06f20491cb54', 'name': 'UFC Fight Night: Chiesa vs. Lee', 'date': 'June 25, 2017'}, {'link': 'http://www.ufcstats.com/event-details/353de740bb6c7e75', 'name': 'UFC Fight Night: Holm vs. Correia', 'date': 'June 17, 2017'}, {'link': 'http://www.ufcstats.com/event-details/90e7447d8b7f3f35', 'name': 'UFC Fight Night: Lewis vs. Hunt', 'date': 'June 10, 2017'}, {'link': 'http://www.ufcstats.com/event-details/1507214bbc7a79e2', 'name': 'UFC 212: Aldo vs. Holloway', 'date': 'June 03, 2017'}, {'link': 'http://www.ufcstats.com/event-details/1c7cce2f5c17160d', 'name': 'UFC Fight Night: Gustafsson vs. Teixeira', 'date': 'May 28, 2017'}, {'link': 'http://www.ufcstats.com/event-details/5df10509264586e5', 'name': 'UFC 211: Miocic vs. Dos Santos', 'date': 'May 13, 2017'}, {'link': 'http://www.ufcstats.com/event-details/bc7f7f0ba3db74d2', 'name': 'UFC Fight Night: Swanson vs. Lobov', 'date': 'April 22, 2017'}, {'link': 'http://www.ufcstats.com/event-details/ed069a95aaaf4f56', 'name': 'UFC on FOX: Johnson vs. Reis', 'date': 'April 15, 2017'}, {'link': 'http://www.ufcstats.com/event-details/e7bfdb5e0112891e', 'name': 'UFC 210: Cormier vs. Johnson 2', 'date': 'April 08, 2017'}, {'link': 'http://www.ufcstats.com/event-details/c0231720fe516994', 'name': 'UFC Fight Night: Manuwa vs. Anderson', 'date': 'March 18, 2017'}, {'link': 'http://www.ufcstats.com/event-details/47b7e4e60813b7b2', 'name': 'UFC Fight Night: Belfort vs. Gastelum', 'date': 'March 11, 2017'}, {'link': 'http://www.ufcstats.com/event-details/20e403a1acfef130', 'name': 'UFC 209: Woodley vs. Thompson 2', 'date': 'March 04, 2017'}, {'link': 'http://www.ufcstats.com/event-details/b4ad3a06ee4d660c', 'name': 'UFC Fight Night: Lewis vs. Browne', 'date': 'February 19, 2017'}, {'link': 'http://www.ufcstats.com/event-details/865aa315ea62c511', 'name': 'UFC 208: Holm vs. De Randamie', 'date': 'February 11, 2017'}, {'link': 'http://www.ufcstats.com/event-details/6a8a06b542e1516d', 'name': 'UFC Fight Night: Bermudez vs. The Korean Zombie', 'date': 'February 04, 2017'}, {'link': 'http://www.ufcstats.com/event-details/4512e46543b960ad', 'name': 'UFC on FOX: Shevchenko vs. Pena', 'date': 'January 28, 2017'}, {'link': 'http://www.ufcstats.com/event-details/46effbd1135423c5', 'name': 'UFC Fight Night: Rodriguez vs. Penn', 'date': 'January 15, 2017'}, {'link': 'http://www.ufcstats.com/event-details/4b2390cfaceb91d8', 'name': 'UFC 207: Nunes vs. Rousey', 'date': 'December 30, 2016'}, {'link': 'http://www.ufcstats.com/event-details/32541eb5d12668b4', 'name': 'UFC on FOX: VanZant vs. Waterson', 'date': 'December 17, 2016'}, {'link': 'http://www.ufcstats.com/event-details/6e3282d57d2467a0', 'name': 'UFC 206: Holloway vs. Pettis', 'date': 'December 10, 2016'}, {'link': 'http://www.ufcstats.com/event-details/7139cd2ae4bf6a29', 'name': 'UFC Fight Night: Lewis vs. Abdurakhimov', 'date': 'December 09, 2016'}, {'link': 'http://www.ufcstats.com/event-details/bd4389b71fdc0ce2', 'name': 'The Ultimate Fighter: Tournament of Champions Finale', 'date': 'December 03, 2016'}, {'link': 'http://www.ufcstats.com/event-details/73e09f837f3b5ecc', 'name': 'UFC Fight Night: Whittaker vs. Brunson', 'date': 'November 26, 2016'}, {'link': 'http://www.ufcstats.com/event-details/5cde96e0a1a1fffe', 'name': 'UFC Fight Night: Bader vs. Nogueira', 'date': 'November 19, 2016'}, {'link': 'http://www.ufcstats.com/event-details/6810d8d2dd557cf9', 'name': 'UFC Fight Night: Mousasi vs. Hall 2', 'date': 'November 19, 2016'}, {'link': 'http://www.ufcstats.com/event-details/4956f60b7fa57c1a', 'name': 'UFC 205: Alvarez vs McGregor', 'date': 'November 12, 2016'}, {'link': 'http://www.ufcstats.com/event-details/6083f497c22cc075', 'name': 'UFC Fight Night: Dos Anjos vs. Ferguson', 'date': 'November 05, 2016'}, {'link': 'http://www.ufcstats.com/event-details/154a6b3ffae264cd', 'name': 'UFC 204: Bisping vs. Henderson', 'date': 'October 08, 2016'}, {'link': 'http://www.ufcstats.com/event-details/a196332ee4aa8a82', 'name': 'UFC Fight Night: Lineker vs. Dodson', 'date': 'October 01, 2016'}, {'link': 'http://www.ufcstats.com/event-details/e18012194473e8b0', 'name': 'UFC Fight Night: Cyborg vs. Lansberg', 'date': 'September 24, 2016'}, {'link': 'http://www.ufcstats.com/event-details/d6455cb4bee503ce', 'name': 'UFC Fight Night: Poirier vs. Johnson', 'date': 'September 17, 2016'}, {'link': 'http://www.ufcstats.com/event-details/2dc7f1762dc0a7ef', 'name': 'UFC 203: Miocic vs. Overeem', 'date': 'September 10, 2016'}, {'link': 'http://www.ufcstats.com/event-details/2b4faacc16d66898', 'name': 'UFC Fight Night: Arlovski vs. Barnett', 'date': 'September 03, 2016'}, {'link': 'http://www.ufcstats.com/event-details/cfbccfed4e4796fe', 'name': 'UFC on FOX: Maia vs. Condit', 'date': 'August 27, 2016'}, {'link': 'http://www.ufcstats.com/event-details/5da4e8dc02e50ac0', 'name': 'UFC 202: Diaz vs. McGregor 2', 'date': 'August 20, 2016'}, {'link': 'http://www.ufcstats.com/event-details/232c582f29f8f65e', 'name': 'UFC Fight Night: Rodriguez vs. Caceres', 'date': 'August 06, 2016'}, {'link': 'http://www.ufcstats.com/event-details/72cbe507644a587c', 'name': 'UFC 201: Lawler vs. Woodley', 'date': 'July 30, 2016'}, {'link': 'http://www.ufcstats.com/event-details/8a028648f3f0761d', 'name': 'UFC on FOX: Holm vs. Shevchenko', 'date': 'July 23, 2016'}, {'link': 'http://www.ufcstats.com/event-details/5e7a28f20927d64a', 'name': 'UFC Fight Night: McDonald vs. Lineker', 'date': 'July 13, 2016'}, {'link': 'http://www.ufcstats.com/event-details/aa5b4eff51bdc7d1', 'name': 'UFC 200: Tate vs Nunes', 'date': 'July 09, 2016'}, {'link': 'http://www.ufcstats.com/event-details/cd42bbe8887bba90', 'name': 'The Ultimate Fighter: Team Joanna vs. Team Cláudia Finale', 'date': 'July 08, 2016'}, {'link': 'http://www.ufcstats.com/event-details/45a2ba3ef82b9700', 'name': 'UFC Fight Night: Dos Anjos vs. Alvarez', 'date': 'July 07, 2016'}, {'link': 'http://www.ufcstats.com/event-details/563d051c9e769b24', 'name': 'UFC Fight Night: MacDonald vs Thompson', 'date': 'June 18, 2016'}, {'link': 'http://www.ufcstats.com/event-details/ff4c3ab594c7fac3', 'name': 'UFC 199: Rockhold vs. Bisping 2', 'date': 'June 04, 2016'}, {'link': 'http://www.ufcstats.com/event-details/990060b2a68a7b82', 'name': 'UFC Fight Night: Almeida vs Garbrandt', 'date': 'May 29, 2016'}, {'link': 'http://www.ufcstats.com/event-details/a4bf17bd3ba3423b', 'name': 'UFC 198: Werdum vs Miocic', 'date': 'May 14, 2016'}, {'link': 'http://www.ufcstats.com/event-details/a314687f372b2cec', 'name': 'UFC Fight Night: Overeem vs Arlovski', 'date': 'May 08, 2016'}, {'link': 'http://www.ufcstats.com/event-details/3d481aa374c954a1', 'name': 'UFC 197: Jones vs Saint Preux', 'date': 'April 23, 2016'}, {'link': 'http://www.ufcstats.com/event-details/e7e970d508529bf3', 'name': 'UFC on FOX: Teixeira vs Evans', 'date': 'April 16, 2016'}, {'link': 'http://www.ufcstats.com/event-details/4887e5bc4dbb73ff', 'name': 'UFC Fight Night: Rothwell vs Dos Santos', 'date': 'April 10, 2016'}, {'link': 'http://www.ufcstats.com/event-details/e60201cfab7d656d', 'name': 'UFC Fight Night: Hunt vs Mir', 'date': 'March 19, 2016'}, {'link': 'http://www.ufcstats.com/event-details/db1f2ed63b54b9a7', 'name': 'UFC 196: McGregor vs Diaz', 'date': 'March 05, 2016'}, {'link': 'http://www.ufcstats.com/event-details/39c568f8c579913e', 'name': 'UFC Fight Night: Silva vs Bisping', 'date': 'February 27, 2016'}, {'link': 'http://www.ufcstats.com/event-details/d56bb6dff2ae77eb', 'name': 'UFC Fight Night: Cowboy vs Cowboy', 'date': 'February 21, 2016'}, {'link': 'http://www.ufcstats.com/event-details/de99da2c0d18d34a', 'name': 'UFC Fight Night: Hendricks vs Thompson', 'date': 'February 06, 2016'}, {'link': 'http://www.ufcstats.com/event-details/b3fb8d2293e17a59', 'name': 'UFC on FOX: Johnson vs. Bader', 'date': 'January 30, 2016'}, {'link': 'http://www.ufcstats.com/event-details/c6becb722706c7d8', 'name': 'UFC Fight Night: Dillashaw vs Cruz', 'date': 'January 17, 2016'}, {'link': 'http://www.ufcstats.com/event-details/380e8b023290d091', 'name': 'UFC 195: Lawler vs Condit', 'date': 'January 02, 2016'}, {'link': 'http://www.ufcstats.com/event-details/80d918336163b80c', 'name': 'UFC on FOX: Dos Anjos vs. Cowboy 2', 'date': 'December 19, 2015'}, {'link': 'http://www.ufcstats.com/event-details/354808cf38d9d73c', 'name': 'UFC 194: Aldo vs McGregor', 'date': 'December 12, 2015'}, {'link': 'http://www.ufcstats.com/event-details/20fbff570c678e1c', 'name': 'The Ultimate Fighter: Team McGregor vs. Team Faber Finale', 'date': 'December 11, 2015'}, {'link': 'http://www.ufcstats.com/event-details/dd39f1ca787a3d9d', 'name': 'UFC Fight Night: Namajunas vs. VanZant', 'date': 'December 10, 2015'}, {'link': 'http://www.ufcstats.com/event-details/4d636c3aa1105950', 'name': 'UFC Fight Night: Henderson vs Masvidal', 'date': 'November 28, 2015'}, {'link': 'http://www.ufcstats.com/event-details/243b07fc65ccbb16', 'name': 'UFC Fight Night: Magny vs Gastelum', 'date': 'November 21, 2015'}, {'link': 'http://www.ufcstats.com/event-details/8d04923f2db59b7f', 'name': 'UFC 193: Rousey vs Holm', 'date': 'November 14, 2015'}, {'link': 'http://www.ufcstats.com/event-details/5345f86680378fc1', 'name': 'UFC Fight Night: Belfort vs Henderson 3', 'date': 'November 07, 2015'}, {'link': 'http://www.ufcstats.com/event-details/f3155a94ca420126', 'name': 'UFC Fight Night: Holohan vs Smolka', 'date': 'October 24, 2015'}, {'link': 'http://www.ufcstats.com/event-details/119ebea97e914dcf', 'name': 'UFC 192: Cormier vs Gustafsson', 'date': 'October 03, 2015'}, {'link': 'http://www.ufcstats.com/event-details/a4dd5c9a75763295', 'name': 'UFC Fight Night: Barnett vs Nelson', 'date': 'September 26, 2015'}, {'link': 'http://www.ufcstats.com/event-details/82f5c81f4e3c3eb5', 'name': 'UFC 191: Johnson vs Dodson 2', 'date': 'September 05, 2015'}, {'link': 'http://www.ufcstats.com/event-details/2ce6541127b0e232', 'name': 'UFC Fight Night: Holloway vs Oliveira', 'date': 'August 23, 2015'}, {'link': 'http://www.ufcstats.com/event-details/b71667c778b6d9e5', 'name': 'UFC Fight Night: Teixeira vs Saint Preux', 'date': 'August 08, 2015'}, {'link': 'http://www.ufcstats.com/event-details/a9c45a8b21eabadc', 'name': 'UFC 190: Rousey vs Correia', 'date': 'August 01, 2015'}, {'link': 'http://www.ufcstats.com/event-details/0c3838c8f7c620c2', 'name': 'UFC on FOX: Dillashaw vs. Barao II', 'date': 'July 25, 2015'}, {'link': 'http://www.ufcstats.com/event-details/ef7fa30364cbe7f2', 'name': 'UFC Fight Night: Bisping vs Leites', 'date': 'July 18, 2015'}, {'link': 'http://www.ufcstats.com/event-details/36877f0e62b25b96', 'name': 'UFC Fight Night: Mir vs Duffee', 'date': 'July 15, 2015'}, {'link': 'http://www.ufcstats.com/event-details/a890f9a791ed615d', 'name': 'The Ultimate Fighter: American Top Team vs. Blackzilians Finale', 'date': 'July 12, 2015'}, {'link': 'http://www.ufcstats.com/event-details/3be081c29bf734d9', 'name': 'UFC 189: Mendes vs McGregor', 'date': 'July 11, 2015'}, {'link': 'http://www.ufcstats.com/event-details/86e388ed20761ad9', 'name': 'UFC Fight Night: Machida vs Romero', 'date': 'June 27, 2015'}, {'link': 'http://www.ufcstats.com/event-details/194fc025f9355db6', 'name': 'UFC Fight Night: Jedrzejczyk vs Penne', 'date': 'June 20, 2015'}, {'link': 'http://www.ufcstats.com/event-details/a58114c6dd0add64', 'name': 'UFC 188: Velasquez vs Werdum', 'date': 'June 13, 2015'}, {'link': 'http://www.ufcstats.com/event-details/06dc1a58663579d2', 'name': 'UFC Fight Night: Boetsch vs Henderson', 'date': 'June 06, 2015'}, {'link': 'http://www.ufcstats.com/event-details/aae0897825336b1a', 'name': 'UFC Fight Night: Condit vs Alves', 'date': 'May 30, 2015'}, {'link': 'http://www.ufcstats.com/event-details/4f7e290e71d60f87', 'name': 'UFC 187: Johnson vs Cormier', 'date': 'May 23, 2015'}, {'link': 'http://www.ufcstats.com/event-details/b1605ea39fba6af6', 'name': 'UFC Fight Night: Edgar vs Faber', 'date': 'May 16, 2015'}, {'link': 'http://www.ufcstats.com/event-details/8a1b4330c7957961', 'name': 'UFC Fight Night: Miocic vs Hunt', 'date': 'May 09, 2015'}, {'link': 'http://www.ufcstats.com/event-details/997b4f52f76a0b53', 'name': 'UFC 186: Johnson vs Horiguchi', 'date': 'April 25, 2015'}, {'link': 'http://www.ufcstats.com/event-details/bc7cf284c1c2f16e', 'name': 'UFC on FOX: Machida vs Rockhold', 'date': 'April 18, 2015'}, {'link': 'http://www.ufcstats.com/event-details/5de61b03868035ff', 'name': 'UFC Fight Night: Gonzaga vs Cro Cop 2', 'date': 'April 11, 2015'}, {'link': 'http://www.ufcstats.com/event-details/16d09e800ad7ec79', 'name': 'UFC Fight Night: Mendes vs Lamas', 'date': 'April 04, 2015'}, {'link': 'http://www.ufcstats.com/event-details/fa534853eb195270', 'name': 'UFC Fight Night: Maia vs LaFlare', 'date': 'March 21, 2015'}, {'link': 'http://www.ufcstats.com/event-details/f54200f1dfb9b5d4', 'name': 'UFC 185: Pettis vs Dos Anjos', 'date': 'March 14, 2015'}, {'link': 'http://www.ufcstats.com/event-details/ad4e9055bf8cd04d', 'name': 'UFC 184: Rousey vs Zingano', 'date': 'February 28, 2015'}, {'link': 'http://www.ufcstats.com/event-details/0577808d22dfe79c', 'name': 'UFC Fight Night: Bigfoot vs Mir', 'date': 'February 22, 2015'}, {'link': 'http://www.ufcstats.com/event-details/f9c7fe2682af3802', 'name': 'UFC Fight Night: Henderson vs Thatch', 'date': 'February 14, 2015'}, {'link': 'http://www.ufcstats.com/event-details/43563a32c3f10e95', 'name': 'UFC 183: Silva vs Diaz', 'date': 'January 31, 2015'}, {'link': 'http://www.ufcstats.com/event-details/706404da0775dcbc', 'name': 'UFC on FOX: Gustafsson vs Johnson', 'date': 'January 24, 2015'}, {'link': 'http://www.ufcstats.com/event-details/f9aa6376ae16bfb4', 'name': 'UFC Fight Night: McGregor vs Siver', 'date': 'January 18, 2015'}, {'link': 'http://www.ufcstats.com/event-details/a72d260b436924c4', 'name': 'UFC 182: Jones vs Cormier', 'date': 'January 03, 2015'}, {'link': 'http://www.ufcstats.com/event-details/4e5bbc4566049cbf', 'name': 'UFC Fight Night: Machida vs Dollaway', 'date': 'December 20, 2014'}, {'link': 'http://www.ufcstats.com/event-details/d4a12dfa4067742f', 'name': 'UFC on FOX: Dos Santos vs Miocic', 'date': 'December 13, 2014'}, {'link': 'http://www.ufcstats.com/event-details/222d6b547de2e035', 'name': 'The Ultimate Fighter: A Champion Will Be Crowned Finale', 'date': 'December 12, 2014'}, {'link': 'http://www.ufcstats.com/event-details/dfdd0c5dd0d4bc23', 'name': 'UFC 181: Hendricks vs Lawler II', 'date': 'December 06, 2014'}, {'link': 'http://www.ufcstats.com/event-details/155a02a8b4311057', 'name': 'UFC Fight Night: Edgar vs Swanson', 'date': 'November 22, 2014'}, {'link': 'http://www.ufcstats.com/event-details/59851163aaf1aed8', 'name': 'UFC 180: Werdum vs Hunt', 'date': 'November 15, 2014'}, {'link': 'http://www.ufcstats.com/event-details/6ca68b636fbc1f18', 'name': 'UFC Fight Night 56: Shogun vs Saint Preux', 'date': 'November 08, 2014'}, {'link': 'http://www.ufcstats.com/event-details/371a1c91b24dec2b', 'name': 'UFC Fight Night: Rockhold vs Bisping', 'date': 'November 07, 2014'}, {'link': 'http://www.ufcstats.com/event-details/53f02bbc41d99432', 'name': 'UFC 179: Aldo vs Mendes 2', 'date': 'October 25, 2014'}, {'link': 'http://www.ufcstats.com/event-details/0313bf497de9c470', 'name': 'UFC Fight Night: MacDonald vs Saffiedine', 'date': 'October 04, 2014'}, {'link': 'http://www.ufcstats.com/event-details/8dc4f34c1f50d00d', 'name': 'UFC Fight Night: Nelson vs Story', 'date': 'October 04, 2014'}, {'link': 'http://www.ufcstats.com/event-details/3bb030257966b022', 'name': 'UFC 178: Johnson vs Cariaso', 'date': 'September 27, 2014'}, {'link': 'http://www.ufcstats.com/event-details/2dea80c069847321', 'name': 'UFC Fight Night: Hunt vs Nelson', 'date': 'September 20, 2014'}, {'link': 'http://www.ufcstats.com/event-details/a71feb7ea7592a71', 'name': 'UFC Fight Night: Bigfoot vs Arlovski', 'date': 'September 13, 2014'}, {'link': 'http://www.ufcstats.com/event-details/9bcfb40dbcd50568', 'name': 'UFC Fight Night: Jacare vs Mousasi', 'date': 'September 05, 2014'}, {'link': 'http://www.ufcstats.com/event-details/269d103c96a4c3a5', 'name': 'UFC 177: Dillashaw vs Soto', 'date': 'August 30, 2014'}, {'link': 'http://www.ufcstats.com/event-details/063649e21bc9d6d5', 'name': 'UFC Fight Night: Henderson vs Dos Anjos', 'date': 'August 23, 2014'}, {'link': 'http://www.ufcstats.com/event-details/770b9d4813c25902', 'name': 'UFC Fight Night: Bisping vs Le', 'date': 'August 23, 2014'}, {'link': 'http://www.ufcstats.com/event-details/fd7acf42bd6e7e95', 'name': 'UFC Fight Night: Bader vs Saint Preux', 'date': 'August 16, 2014'}, {'link': 'http://www.ufcstats.com/event-details/05fbfe628658c538', 'name': 'UFC on FOX: Lawler vs Brown', 'date': 'July 26, 2014'}, {'link': 'http://www.ufcstats.com/event-details/073eee4e62f0d988', 'name': 'UFC Fight Night: McGregor vs Brandao', 'date': 'July 19, 2014'}, {'link': 'http://www.ufcstats.com/event-details/79ded75550efc139', 'name': 'UFC Fight Night: Cowboy vs Miller', 'date': 'July 16, 2014'}, {'link': 'http://www.ufcstats.com/event-details/1c5879330d42255f', 'name': 'The Ultimate Fighter: Team Edgar vs. Team Penn Finale', 'date': 'July 06, 2014'}, {'link': 'http://www.ufcstats.com/event-details/53adf5b845d91e4a', 'name': 'UFC 175: Weidman vs Machida', 'date': 'July 05, 2014'}, {'link': 'http://www.ufcstats.com/event-details/c0ed7b208197e8de', 'name': 'UFC Fight Night: Swanson vs Stephens', 'date': 'June 28, 2014'}, {'link': 'http://www.ufcstats.com/event-details/ac9521250dc1a14c', 'name': 'UFC Fight Night: Te Huna vs Marquardt', 'date': 'June 28, 2014'}, {'link': 'http://www.ufcstats.com/event-details/5b5307450405abf0', 'name': 'UFC 174: Johnson vs Bagautinov', 'date': 'June 14, 2014'}, {'link': 'http://www.ufcstats.com/event-details/1fcfc3709fe58151', 'name': 'UFC Fight Night: Henderson vs Khabilov', 'date': 'June 07, 2014'}, {'link': 'http://www.ufcstats.com/event-details/59aaf2730b84698a', 'name': 'UFC Fight Night: Miocic vs Maldonado', 'date': 'May 31, 2014'}, {'link': 'http://www.ufcstats.com/event-details/b757c73f443d4fca', 'name': 'UFC Fight Night: Munoz vs Mousasi', 'date': 'May 31, 2014'}, {'link': 'http://www.ufcstats.com/event-details/9ca265dfe8323db3', 'name': 'UFC 173: Barao vs Dillashaw', 'date': 'May 24, 2014'}, {'link': 'http://www.ufcstats.com/event-details/579fcdfcabd23a7b', 'name': 'UFC Fight Night: Brown vs Silva', 'date': 'May 10, 2014'}, {'link': 'http://www.ufcstats.com/event-details/4f2fcbefb668689d', 'name': 'UFC 172: Jones vs Teixeira', 'date': 'April 26, 2014'}, {'link': 'http://www.ufcstats.com/event-details/a421465acbe59c77', 'name': 'UFC on FOX: Werdum vs Browne', 'date': 'April 19, 2014'}, {'link': 'http://www.ufcstats.com/event-details/f9f07bb5a43535ed', 'name': 'UFC Fight Night: Bisping vs Kennedy', 'date': 'April 16, 2014'}, {'link': 'http://www.ufcstats.com/event-details/d632d156c0549e07', 'name': 'UFC Fight Night: Minotauro vs Nelson', 'date': 'April 11, 2014'}, {'link': 'http://www.ufcstats.com/event-details/d5f820c11a121050', 'name': 'UFC Fight Night: Shogun vs Henderson 2', 'date': 'March 23, 2014'}, {'link': 'http://www.ufcstats.com/event-details/179f1948dc234f1f', 'name': 'UFC 171: Hendricks vs Lawler', 'date': 'March 15, 2014'}, {'link': 'http://www.ufcstats.com/event-details/ebc1f40e00e0c481', 'name': 'UFC Fight Night: Gustafsson vs Manuwa', 'date': 'March 08, 2014'}, {'link': 'http://www.ufcstats.com/event-details/a26198ba5093147e', 'name': 'UFC Fight Night: Kim vs Hathaway', 'date': 'March 01, 2014'}, {'link': 'http://www.ufcstats.com/event-details/3138fab619faf4d1', 'name': 'UFC 170: Rousey vs McMann', 'date': 'February 22, 2014'}, {'link': 'http://www.ufcstats.com/event-details/51b0bb73a1da34bc', 'name': 'UFC Fight Night: Machida vs Mousasi', 'date': 'February 15, 2014'}, {'link': 'http://www.ufcstats.com/event-details/fc31f896cde2bc2e', 'name': 'UFC 169: Barao vs Faber 2', 'date': 'February 01, 2014'}, {'link': 'http://www.ufcstats.com/event-details/a8d521d913df4e31', 'name': 'UFC on FOX: Henderson vs Thomson', 'date': 'January 25, 2014'}, {'link': 'http://www.ufcstats.com/event-details/30a09e43f15f1d75', 'name': 'UFC Fight Night: Rockhold vs Philippou', 'date': 'January 15, 2014'}, {'link': 'http://www.ufcstats.com/event-details/e5c9de15bb58b1c6', 'name': 'UFC Fight Night: Saffiedine vs Lim', 'date': 'January 04, 2014'}, {'link': 'http://www.ufcstats.com/event-details/83d0de122f2f9664', 'name': 'UFC 168: Weidman vs Silva 2', 'date': 'December 28, 2013'}, {'link': 'http://www.ufcstats.com/event-details/480b702debcb5433', 'name': 'UFC on FOX: Johnson vs. Benavidez 2', 'date': 'December 14, 2013'}, {'link': 'http://www.ufcstats.com/event-details/ee457ef1e1c326c1', 'name': 'UFC Fight Night: Hunt vs Bigfoot', 'date': 'December 06, 2013'}, {'link': 'http://www.ufcstats.com/event-details/9a967e8e43dcef63', 'name': 'The Ultimate Fighter: Team Rousey vs. Team Tate Finale', 'date': 'November 30, 2013'}, {'link': 'http://www.ufcstats.com/event-details/28f3c2258a1d8874', 'name': 'UFC 167: St-Pierre vs Hendricks', 'date': 'November 16, 2013'}, {'link': 'http://www.ufcstats.com/event-details/5d7c18191b8aa432', 'name': 'UFC Fight Night: Belfort vs Henderson 2', 'date': 'November 09, 2013'}, {'link': 'http://www.ufcstats.com/event-details/35dc6220b113b7ec', 'name': 'UFC Fight Night: Fight for the Troops 3', 'date': 'November 06, 2013'}, {'link': 'http://www.ufcstats.com/event-details/60884f31ead1609c', 'name': 'UFC Fight Night: Machida vs Munoz', 'date': 'October 26, 2013'}, {'link': 'http://www.ufcstats.com/event-details/eae4aec1a5a8ff01', 'name': 'UFC 166: Velasquez vs Dos Santos 3', 'date': 'October 19, 2013'}, {'link': 'http://www.ufcstats.com/event-details/43612456979e5d5e', 'name': 'UFC Fight Night: Maia vs Shields', 'date': 'October 09, 2013'}, {'link': 'http://www.ufcstats.com/event-details/df5a77121ba84a5d', 'name': 'UFC 165: Jones vs Gustafsson', 'date': 'September 21, 2013'}, {'link': 'http://www.ufcstats.com/event-details/b23fca14c7b79935', 'name': 'UFC Fight Night: Teixeira vs Bader', 'date': 'September 04, 2013'}, {'link': 'http://www.ufcstats.com/event-details/980b4e712489098e', 'name': 'UFC 164: Henderson vs Pettis 2', 'date': 'August 31, 2013'}, {'link': 'http://www.ufcstats.com/event-details/e5c38954c006f15c', 'name': 'UFC Fight Night: Condit vs Kampmann 2', 'date': 'August 28, 2013'}, {'link': 'http://www.ufcstats.com/event-details/cf1a88371c8cb690', 'name': 'UFC Fight Night: Shogun vs Sonnen', 'date': 'August 17, 2013'}, {'link': 'http://www.ufcstats.com/event-details/ebc5af72ad5a28cb', 'name': 'UFC 163: Aldo vs Jung', 'date': 'August 03, 2013'}, {'link': 'http://www.ufcstats.com/event-details/5330fe7e4c3af81c', 'name': 'UFC on FOX: Johnson vs Moraga', 'date': 'July 27, 2013'}, {'link': 'http://www.ufcstats.com/event-details/e0b74df14f52cd15', 'name': 'UFC 162: Silva vs Weidman', 'date': 'July 06, 2013'}, {'link': 'http://www.ufcstats.com/event-details/8fd1f27e86661ede', 'name': 'UFC 161: Evans vs Henderson', 'date': 'June 15, 2013'}, {'link': 'http://www.ufcstats.com/event-details/7865707fd684d77b', 'name': 'UFC on FUEL TV: Nogueira vs. Werdum', 'date': 'June 08, 2013'}, {'link': 'http://www.ufcstats.com/event-details/3c241737a6069b9f', 'name': 'UFC 160: Velasquez vs Silva 2', 'date': 'May 25, 2013'}, {'link': 'http://www.ufcstats.com/event-details/030f08370fd1c2bb', 'name': 'UFC on FX: Belfort vs. Rockhold', 'date': 'May 18, 2013'}, {'link': 'http://www.ufcstats.com/event-details/ea0ad155451ed1f5', 'name': 'UFC 159: Jones vs Sonnen', 'date': 'April 27, 2013'}, {'link': 'http://www.ufcstats.com/event-details/aa79d5399571068e', 'name': 'UFC on FOX: Henderson vs Melendez', 'date': 'April 20, 2013'}, {'link': 'http://www.ufcstats.com/event-details/ce47f49e5c386a9c', 'name': 'The Ultimate Fighter: Team Jones vs. Team Sonnen Finale', 'date': 'April 13, 2013'}, {'link': 'http://www.ufcstats.com/event-details/6291ac0a3726732f', 'name': 'UFC on FUEL TV: Mousasi vs Latifi', 'date': 'April 06, 2013'}, {'link': 'http://www.ufcstats.com/event-details/f1b2a4365799c48b', 'name': 'UFC 158: St-Pierre vs Diaz', 'date': 'March 16, 2013'}, {'link': 'http://www.ufcstats.com/event-details/83c6c3e0f8bde8ee', 'name': 'UFC on FUEL TV: Silva vs. Stann', 'date': 'March 02, 2013'}, {'link': 'http://www.ufcstats.com/event-details/09c44b317c98bf96', 'name': 'UFC 157: Rousey vs Carmouche', 'date': 'February 23, 2013'}, {'link': 'http://www.ufcstats.com/event-details/4679a38cced7c64a', 'name': 'UFC on FUEL TV: Barao vs McDonald', 'date': 'February 16, 2013'}, {'link': 'http://www.ufcstats.com/event-details/601cf40c09090853', 'name': 'UFC 156: Aldo vs Edgar', 'date': 'February 02, 2013'}, {'link': 'http://www.ufcstats.com/event-details/738acab0c6934dd8', 'name': 'UFC on FOX: Johnson vs Dodson', 'date': 'January 26, 2013'}, {'link': 'http://www.ufcstats.com/event-details/56f4b81ec4db61af', 'name': 'UFC on FX: Belfort vs Bisping', 'date': 'January 19, 2013'}, {'link': 'http://www.ufcstats.com/event-details/c6e6926a81adcd00', 'name': 'UFC 155: Dos Santos vs Velasquez II', 'date': 'December 29, 2012'}, {'link': 'http://www.ufcstats.com/event-details/c6da1c24fe473418', 'name': 'The Ultimate Fighter: Team Carwin vs. Team Nelson Finale', 'date': 'December 15, 2012'}, {'link': 'http://www.ufcstats.com/event-details/e8c170a64dc920ac', 'name': 'UFC on FX: Sotiropoulos vs Pearson', 'date': 'December 14, 2012'}, {'link': 'http://www.ufcstats.com/event-details/d1e6a6536ee62517', 'name': 'UFC on FOX: Henderson vs Diaz', 'date': 'December 08, 2012'}, {'link': 'http://www.ufcstats.com/event-details/d41937647eae9a34', 'name': 'UFC 154: St-Pierre vs Condit', 'date': 'November 17, 2012'}, {'link': 'http://www.ufcstats.com/event-details/319fa1bd3176bded', 'name': 'UFC Macao: Franklin vs Le', 'date': 'November 10, 2012'}, {'link': 'http://www.ufcstats.com/event-details/96d173b7f92aa520', 'name': 'UFC 153: Silva vs Bonnar', 'date': 'October 13, 2012'}, {'link': 'http://www.ufcstats.com/event-details/6a0b80a24f22e152', 'name': 'UFC on FX: Browne vs Bigfoot', 'date': 'October 05, 2012'}, {'link': 'http://www.ufcstats.com/event-details/6cbb7661c3258617', 'name': 'UFC on FUEL TV: Struve vs Miocic', 'date': 'September 29, 2012'}, {'link': 'http://www.ufcstats.com/event-details/53e533db1b8e9712', 'name': 'UFC 152: Jones vs Belfort', 'date': 'September 22, 2012'}, {'link': 'http://www.ufcstats.com/event-details/3c48019bc387b80c', 'name': 'UFC 150: Henderson vs Edgar II', 'date': 'August 11, 2012'}, {'link': 'http://www.ufcstats.com/event-details/f62850b3c7480db9', 'name': 'UFC on FOX: Shogun vs Vera', 'date': 'August 04, 2012'}, {'link': 'http://www.ufcstats.com/event-details/abbc4fc02e0d84b3', 'name': 'UFC 149: Faber vs Barao', 'date': 'July 21, 2012'}, {'link': 'http://www.ufcstats.com/event-details/d3b5ad3b15a64a18', 'name': 'UFC on FUEL TV: Munoz vs Weidman', 'date': 'July 11, 2012'}, {'link': 'http://www.ufcstats.com/event-details/e8efeb9cf33b1941', 'name': 'UFC 148: Silva vs Sonnen 2', 'date': 'July 07, 2012'}, {'link': 'http://www.ufcstats.com/event-details/3da19339ee7051d5', 'name': 'UFC 147: Silva vs Franklin 2', 'date': 'June 23, 2012'}, {'link': 'http://www.ufcstats.com/event-details/505934897b8b4824', 'name': 'UFC on FX: Maynard vs Guida', 'date': 'June 22, 2012'}, {'link': 'http://www.ufcstats.com/event-details/49590e0508b2c19f', 'name': 'UFC on FX: Johnson vs McCall', 'date': 'June 08, 2012'}, {'link': 'http://www.ufcstats.com/event-details/96087e90d900f0ef', 'name': 'The Ultimate Fighter: Live Finale', 'date': 'June 01, 2012'}, {'link': 'http://www.ufcstats.com/event-details/4985113c0928aa62', 'name': 'UFC 146: Dos Santos vs Mir', 'date': 'May 26, 2012'}, {'link': 'http://www.ufcstats.com/event-details/8caca5857ce0e30b', 'name': 'UFC on FUEL TV: Korean Zombie vs Poirier', 'date': 'May 15, 2012'}, {'link': 'http://www.ufcstats.com/event-details/5898357a45a73674', 'name': 'UFC on FOX: Diaz vs Miller', 'date': 'May 05, 2012'}, {'link': 'http://www.ufcstats.com/event-details/155bfc7ed36622df', 'name': 'UFC 145: Jones vs Evans', 'date': 'April 21, 2012'}, {'link': 'http://www.ufcstats.com/event-details/21f2974fd08085e3', 'name': 'UFC on FUEL TV: Gustafsson vs Silva', 'date': 'April 14, 2012'}, {'link': 'http://www.ufcstats.com/event-details/b5ea750025697880', 'name': 'UFC on FX: Alves vs Kampmann', 'date': 'March 02, 2012'}, {'link': 'http://www.ufcstats.com/event-details/8377c5572cb356f3', 'name': 'UFC 144: Edgar vs Henderson', 'date': 'February 25, 2012'}, {'link': 'http://www.ufcstats.com/event-details/0a97691039c4bbfb', 'name': 'UFC on FUEL TV: Sanchez vs Ellenberger', 'date': 'February 15, 2012'}, {'link': 'http://www.ufcstats.com/event-details/df2cf66d8c0123db', 'name': 'UFC 143: Diaz vs Condit', 'date': 'February 04, 2012'}, {'link': 'http://www.ufcstats.com/event-details/c3c23c99477c041b', 'name': 'UFC on FOX: Evans vs Davis', 'date': 'January 28, 2012'}, {'link': 'http://www.ufcstats.com/event-details/4d74641fac830182', 'name': 'UFC on FX: Guillard vs Miller', 'date': 'January 20, 2012'}, {'link': 'http://www.ufcstats.com/event-details/18524b46c570730b', 'name': 'UFC 142: Aldo vs Mendes', 'date': 'January 14, 2012'}, {'link': 'http://www.ufcstats.com/event-details/91720876db0ee468', 'name': 'UFC 141: Lesnar vs Overeem', 'date': 'December 30, 2011'}, {'link': 'http://www.ufcstats.com/event-details/6d7886b094b471ac', 'name': 'UFC 140: Jones vs Machida', 'date': 'December 10, 2011'}, {'link': 'http://www.ufcstats.com/event-details/1f5f75658551f2d3', 'name': 'The Ultimate Fighter: Team Bisping vs Team Miller Finale', 'date': 'December 03, 2011'}, {'link': 'http://www.ufcstats.com/event-details/0ec821423baa26bd', 'name': 'UFC 139: Shogun vs Henderson', 'date': 'November 19, 2011'}, {'link': 'http://www.ufcstats.com/event-details/1c061eb6e29eaa0a', 'name': 'UFC on FOX: Velasquez vs Dos Santos', 'date': 'November 12, 2011'}, {'link': 'http://www.ufcstats.com/event-details/e780ccc79a209985', 'name': 'UFC 138: Leben vs Munoz', 'date': 'November 05, 2011'}, {'link': 'http://www.ufcstats.com/event-details/8788beb528894f33', 'name': 'UFC 137: Penn vs Diaz', 'date': 'October 29, 2011'}, {'link': 'http://www.ufcstats.com/event-details/7d5b12de1625984e', 'name': 'UFC 136: Edgar vs Maynard 3', 'date': 'October 08, 2011'}, {'link': 'http://www.ufcstats.com/event-details/44f9c777fed7ca03', 'name': 'UFC Live: Cruz vs Johnson', 'date': 'October 01, 2011'}, {'link': 'http://www.ufcstats.com/event-details/73ef22f25d0f70e2', 'name': 'UFC 135: Jones vs Rampage', 'date': 'September 24, 2011'}, {'link': 'http://www.ufcstats.com/event-details/1ffc38f67785797b', 'name': 'UFC Fight Night: Shields vs Ellenberger', 'date': 'September 17, 2011'}, {'link': 'http://www.ufcstats.com/event-details/18968f97ad34f15c', 'name': 'UFC 134: Silva vs Okami', 'date': 'August 27, 2011'}, {'link': 'http://www.ufcstats.com/event-details/4c8d6fde2dde07c4', 'name': 'UFC Live: Hardy vs Lytle', 'date': 'August 14, 2011'}, {'link': 'http://www.ufcstats.com/event-details/f1f9e48a0d150757', 'name': 'UFC 133: Evans vs Ortiz 2', 'date': 'August 06, 2011'}, {'link': 'http://www.ufcstats.com/event-details/83fd97284f4bb4a4', 'name': 'UFC 132: Cruz vs Faber', 'date': 'July 02, 2011'}, {'link': 'http://www.ufcstats.com/event-details/d023ae89a2a4a41e', 'name': 'UFC Live: Kongo vs Barry', 'date': 'June 26, 2011'}, {'link': 'http://www.ufcstats.com/event-details/aac5ac38148f0528', 'name': 'UFC 131: Dos Santos vs Carwin', 'date': 'June 11, 2011'}, {'link': 'http://www.ufcstats.com/event-details/3ba3b5cc94498437', 'name': 'The Ultimate Fighter: Team Lesnar vs Team dos Santos Finale', 'date': 'June 04, 2011'}, {'link': 'http://www.ufcstats.com/event-details/b732b326c362fb62', 'name': 'UFC 130: Rampage vs Hamill', 'date': 'May 28, 2011'}, {'link': 'http://www.ufcstats.com/event-details/2db7fa8db6bc9632', 'name': 'UFC 129: St-Pierre vs Shields', 'date': 'April 30, 2011'}, {'link': 'http://www.ufcstats.com/event-details/8a59d346dc976a10', 'name': 'UFC Fight Night: Nogueira vs Davis', 'date': 'March 26, 2011'}, {'link': 'http://www.ufcstats.com/event-details/1411c630ba711b64', 'name': 'UFC 128: Shogun vs Jones', 'date': 'March 19, 2011'}, {'link': 'http://www.ufcstats.com/event-details/a54fc2d6fc224dc3', 'name': 'UFC Live: Sanchez vs Kampmann', 'date': 'March 03, 2011'}, {'link': 'http://www.ufcstats.com/event-details/88a9bc81271ccd89', 'name': 'UFC 127: Penn vs Fitch', 'date': 'February 26, 2011'}, {'link': 'http://www.ufcstats.com/event-details/65ddc8a9ac4e8531', 'name': 'UFC 126: Silva vs Belfort', 'date': 'February 05, 2011'}, {'link': 'http://www.ufcstats.com/event-details/282fa667ff9c51ed', 'name': 'UFC Fight Night: Fight for the Troops 2', 'date': 'January 22, 2011'}, {'link': 'http://www.ufcstats.com/event-details/d1152823307d7e7c', 'name': 'UFC 125: Resolution', 'date': 'January 01, 2011'}, {'link': 'http://www.ufcstats.com/event-details/132f860d02953f4c', 'name': 'UFC 124: St-Pierre vs Koscheck 2', 'date': 'December 11, 2010'}, {'link': 'http://www.ufcstats.com/event-details/5d7bdab5e03e3216', 'name': 'The Ultimate Fighter: Team GSP vs Team Koscheck Finale', 'date': 'December 04, 2010'}, {'link': 'http://www.ufcstats.com/event-details/dd992d569aaebee6', 'name': 'UFC 123: Rampage vs Machida', 'date': 'November 20, 2010'}, {'link': 'http://www.ufcstats.com/event-details/0ff11cc094e887bc', 'name': 'UFC 122: Marquardt vs Okami', 'date': 'November 13, 2010'}, {'link': 'http://www.ufcstats.com/event-details/afdb76fbd86f6d11', 'name': 'UFC 121: Lesnar vs Velasquez', 'date': 'October 23, 2010'}, {'link': 'http://www.ufcstats.com/event-details/d512d9f204059f57', 'name': 'UFC 120: Bisping vs Akiyama', 'date': 'October 16, 2010'}, {'link': 'http://www.ufcstats.com/event-details/ad32471f01e7b1a5', 'name': 'UFC 119: Mir vs Cro Cop', 'date': 'September 25, 2010'}, {'link': 'http://www.ufcstats.com/event-details/acff437707625fc7', 'name': 'UFC Fight Night: Marquardt vs Palhares', 'date': 'September 15, 2010'}, {'link': 'http://www.ufcstats.com/event-details/054defd5420a551f', 'name': 'UFC 118: Edgar vs Penn 2', 'date': 'August 28, 2010'}, {'link': 'http://www.ufcstats.com/event-details/2f3f12002564bb55', 'name': 'UFC 117: Silva vs Sonnen', 'date': 'August 07, 2010'}, {'link': 'http://www.ufcstats.com/event-details/f12f979b657ab876', 'name': 'UFC Live: Jones vs Matyushenko', 'date': 'August 01, 2010'}, {'link': 'http://www.ufcstats.com/event-details/140745cbbcb023ac', 'name': 'UFC 116: Lesnar vs Carwin', 'date': 'July 03, 2010'}, {'link': 'http://www.ufcstats.com/event-details/9bcf8603ceb25680', 'name': 'The Ultimate Fighter: Team Liddell vs Team Ortiz Finale', 'date': 'June 19, 2010'}, {'link': 'http://www.ufcstats.com/event-details/cfb65863d5099327', 'name': 'UFC 115: Liddell vs Franklin', 'date': 'June 12, 2010'}, {'link': 'http://www.ufcstats.com/event-details/bfc2fc38a0e20211', 'name': 'UFC 114: Rampage vs Evans', 'date': 'May 29, 2010'}, {'link': 'http://www.ufcstats.com/event-details/d0c29452d3272603', 'name': 'UFC 113: Machida vs Shogun 2', 'date': 'May 08, 2010'}, {'link': 'http://www.ufcstats.com/event-details/24b033b3daf1c9df', 'name': 'UFC 112: Invincible', 'date': 'April 10, 2010'}, {'link': 'http://www.ufcstats.com/event-details/3ed134d85dfbd7b4', 'name': 'UFC Fight Night: Florian vs Gomi', 'date': 'March 31, 2010'}, {'link': 'http://www.ufcstats.com/event-details/c80095f6092271a7', 'name': 'UFC 111: St-Pierre vs Hardy', 'date': 'March 27, 2010'}, {'link': 'http://www.ufcstats.com/event-details/3795fca327cbcf23', 'name': 'UFC Live: Vera vs Jones', 'date': 'March 21, 2010'}, {'link': 'http://www.ufcstats.com/event-details/49efbdc6c9f650c4', 'name': 'UFC 110: Nogueira vs Velasquez', 'date': 'February 20, 2010'}, {'link': 'http://www.ufcstats.com/event-details/15edcf67ccf5be84', 'name': 'UFC 109: Relentless', 'date': 'February 06, 2010'}, {'link': 'http://www.ufcstats.com/event-details/58bc81376286b3d3', 'name': 'UFC Fight Night: Maynard vs Diaz', 'date': 'January 11, 2010'}, {'link': 'http://www.ufcstats.com/event-details/a6d8bfe9e0c8153b', 'name': 'UFC 108: Evans vs Silva', 'date': 'January 02, 2010'}, {'link': 'http://www.ufcstats.com/event-details/821cd80aab70d5f9', 'name': 'UFC 107: Penn vs Sanchez', 'date': 'December 12, 2009'}, {'link': 'http://www.ufcstats.com/event-details/91d73ee59347ac16', 'name': 'The Ultimate Fighter: Heavyweights Finale', 'date': 'December 05, 2009'}, {'link': 'http://www.ufcstats.com/event-details/84a067c46306a737', 'name': 'UFC 106: Ortiz vs Griffin 2', 'date': 'November 21, 2009'}, {'link': 'http://www.ufcstats.com/event-details/fa8b9e6b0c2269f8', 'name': 'UFC 105: Couture vs Vera', 'date': 'November 14, 2009'}, {'link': 'http://www.ufcstats.com/event-details/7c0847d3854a95f2', 'name': 'UFC 104: Machida vs Shogun', 'date': 'October 24, 2009'}, {'link': 'http://www.ufcstats.com/event-details/896c322f56b8be5a', 'name': 'UFC 103: Franklin vs Belfort', 'date': 'September 19, 2009'}, {'link': 'http://www.ufcstats.com/event-details/a8ea84cbe1655f0a', 'name': 'UFC Fight Night: Diaz vs Guillard', 'date': 'September 16, 2009'}, {'link': 'http://www.ufcstats.com/event-details/c6a33ff198aaaeeb', 'name': 'UFC 102: Couture vs Nogueira', 'date': 'August 29, 2009'}, {'link': 'http://www.ufcstats.com/event-details/48d1f690b763934c', 'name': 'UFC 101: Declaration', 'date': 'August 08, 2009'}, {'link': 'http://www.ufcstats.com/event-details/0ee783aa00e468f0', 'name': 'UFC 100', 'date': 'July 11, 2009'}, {'link': 'http://www.ufcstats.com/event-details/4908c5ee68a50ee5', 'name': 'The Ultimate Fighter: United States vs. United Kingdom Finale', 'date': 'June 20, 2009'}, {'link': 'http://www.ufcstats.com/event-details/cb6783c39c01d896', 'name': 'UFC 99: The Comeback', 'date': 'June 13, 2009'}, {'link': 'http://www.ufcstats.com/event-details/c4b6099f0d25f75e', 'name': 'UFC 98: Evans vs Machida', 'date': 'May 23, 2009'}, {'link': 'http://www.ufcstats.com/event-details/1652f3213655b935', 'name': 'UFC 97: Redemption', 'date': 'April 18, 2009'}, {'link': 'http://www.ufcstats.com/event-details/04d5718ed2661e8c', 'name': 'UFC Fight Night: Condit vs Kampmann', 'date': 'April 01, 2009'}, {'link': 'http://www.ufcstats.com/event-details/29b5791e51e7e832', 'name': 'UFC 96: Jackson vs Jardine', 'date': 'March 07, 2009'}, {'link': 'http://www.ufcstats.com/event-details/7d21de9c6d7c98b2', 'name': 'UFC 95: Sanchez vs Stevenson', 'date': 'February 21, 2009'}, {'link': 'http://www.ufcstats.com/event-details/d1759b2b7be9be56', 'name': 'UFC Fight Night: Lauzon vs Stephens', 'date': 'February 07, 2009'}, {'link': 'http://www.ufcstats.com/event-details/2a542ee8a8b83559', 'name': 'UFC 94: St-Pierre vs Penn 2', 'date': 'January 31, 2009'}, {'link': 'http://www.ufcstats.com/event-details/68c6cd5287b473a7', 'name': 'UFC 93: Franklin vs Henderson', 'date': 'January 17, 2009'}, {'link': 'http://www.ufcstats.com/event-details/23ab42947c1990e3', 'name': 'UFC 92: The Ultimate 2008', 'date': 'December 27, 2008'}, {'link': 'http://www.ufcstats.com/event-details/ea398c802d9998ee', 'name': 'The Ultimate Fighter: Team Nogueira vs. Team Mir Finale', 'date': 'December 13, 2008'}, {'link': 'http://www.ufcstats.com/event-details/30cd319d39ee689b', 'name': 'UFC Fight Night - Fight for the Troops', 'date': 'December 10, 2008'}, {'link': 'http://www.ufcstats.com/event-details/a2b06ca02bca14c0', 'name': 'UFC 91: Couture vs Lesnar', 'date': 'November 15, 2008'}, {'link': 'http://www.ufcstats.com/event-details/c670aa48827d6be6', 'name': 'UFC 90: Silva vs Cote', 'date': 'October 25, 2008'}, {'link': 'http://www.ufcstats.com/event-details/312f47c3d2f83ffa', 'name': 'UFC 89: Bisping vs Leben', 'date': 'October 18, 2008'}, {'link': 'http://www.ufcstats.com/event-details/279093302a6f44b3', 'name': 'UFC Fight Night: Diaz vs Neer', 'date': 'September 17, 2008'}, {'link': 'http://www.ufcstats.com/event-details/0db70ca89e1c7374', 'name': 'UFC 88: Breakthrough', 'date': 'September 06, 2008'}, {'link': 'http://www.ufcstats.com/event-details/19ffeb5e3fffd6d5', 'name': 'UFC 87: Seek And Destroy', 'date': 'August 09, 2008'}, {'link': 'http://www.ufcstats.com/event-details/46f11d15c0134fe3', 'name': 'UFC: Silva vs Irvin', 'date': 'July 19, 2008'}, {'link': 'http://www.ufcstats.com/event-details/bf12aca029bfcc47', 'name': 'UFC 86: Jackson vs Griffin', 'date': 'July 05, 2008'}, {'link': 'http://www.ufcstats.com/event-details/2299605af59fd309', 'name': 'The Ultimate Fighter: Team Rampage vs Team Forrest Finale', 'date': 'June 21, 2008'}, {'link': 'http://www.ufcstats.com/event-details/2efbc83a6b9b7f86', 'name': 'UFC 85: Bedlam', 'date': 'June 07, 2008'}, {'link': 'http://www.ufcstats.com/event-details/2549d63da9c456cb', 'name': 'UFC 84: Ill Will', 'date': 'May 24, 2008'}, {'link': 'http://www.ufcstats.com/event-details/ad047e3073a775f3', 'name': 'UFC 83: Serra vs St-Pierre 2', 'date': 'April 19, 2008'}, {'link': 'http://www.ufcstats.com/event-details/b9e871af730f826c', 'name': 'UFC Fight Night: Florian vs Lauzon', 'date': 'April 02, 2008'}, {'link': 'http://www.ufcstats.com/event-details/598a58db87b890ee', 'name': 'UFC 82: Pride of a Champion', 'date': 'March 01, 2008'}, {'link': 'http://www.ufcstats.com/event-details/597db668b01c442c', 'name': 'UFC 81: Breaking Point', 'date': 'February 02, 2008'}, {'link': 'http://www.ufcstats.com/event-details/33e33d51f289d2a1', 'name': 'UFC Fight Night: Swick vs Burkman', 'date': 'January 23, 2008'}, {'link': 'http://www.ufcstats.com/event-details/a24e080000fa7a35', 'name': 'UFC 80: Rapid Fire', 'date': 'January 19, 2008'}, {'link': 'http://www.ufcstats.com/event-details/7269329bd87eb479', 'name': 'UFC 79: Nemesis', 'date': 'December 29, 2007'}, {'link': 'http://www.ufcstats.com/event-details/df85d6ec3493d120', 'name': 'The Ultimate Fighter: Team Hughes vs. Team Serra Finale', 'date': 'December 08, 2007'}, {'link': 'http://www.ufcstats.com/event-details/1d147d4163a6989b', 'name': 'UFC 78: Validation', 'date': 'November 17, 2007'}, {'link': 'http://www.ufcstats.com/event-details/91181b29be041f1c', 'name': 'UFC 77: Hostile Territory', 'date': 'October 20, 2007'}, {'link': 'http://www.ufcstats.com/event-details/bad28b7b34f334de', 'name': 'UFC 76: Knockout', 'date': 'September 22, 2007'}, {'link': 'http://www.ufcstats.com/event-details/f341f9551ba744e2', 'name': 'UFC Fight Night: Thomas vs Florian', 'date': 'September 19, 2007'}, {'link': 'http://www.ufcstats.com/event-details/0aa92558424ced9e', 'name': 'UFC 75: Champion vs Champion', 'date': 'September 08, 2007'}, {'link': 'http://www.ufcstats.com/event-details/a5c53b3ddb31cc7d', 'name': 'UFC 74: Respect', 'date': 'August 25, 2007'}, {'link': 'http://www.ufcstats.com/event-details/2a6f8136da1e52c0', 'name': 'UFC 73: Stacked', 'date': 'July 07, 2007'}, {'link': 'http://www.ufcstats.com/event-details/e7ec11096eac0282', 'name': 'The Ultimate Fighter: Team Pulver vs. Team Penn Finale', 'date': 'June 23, 2007'}, {'link': 'http://www.ufcstats.com/event-details/5ca158b1cc9cb242', 'name': 'UFC 72: Victory', 'date': 'June 16, 2007'}, {'link': 'http://www.ufcstats.com/event-details/304fcd812f12c589', 'name': 'UFC Fight Night: Stout vs Fisher', 'date': 'June 12, 2007'}, {'link': 'http://www.ufcstats.com/event-details/2e04a3b4a2011b97', 'name': 'UFC 71: Liddell vs Jackson', 'date': 'May 26, 2007'}, {'link': 'http://www.ufcstats.com/event-details/4604ab1de9058474', 'name': 'UFC 70: Nations Collide', 'date': 'April 21, 2007'}, {'link': 'http://www.ufcstats.com/event-details/c1684f00c626f4c0', 'name': 'UFC 69: Shootout', 'date': 'April 07, 2007'}, {'link': 'http://www.ufcstats.com/event-details/a6c2f5381d575920', 'name': 'UFC Fight Night: Stevenson vs Guillard', 'date': 'April 05, 2007'}, {'link': 'http://www.ufcstats.com/event-details/de3ed2e152520c8d', 'name': 'UFC 68: The Uprising', 'date': 'March 03, 2007'}, {'link': 'http://www.ufcstats.com/event-details/63b65af1c5cb02cb', 'name': 'UFC 67: All or Nothing', 'date': 'February 03, 2007'}, {'link': 'http://www.ufcstats.com/event-details/13c4313ed0f744f3', 'name': 'UFC Fight Night: Evans vs Salmon', 'date': 'January 25, 2007'}, {'link': 'http://www.ufcstats.com/event-details/ee5df903f80c6816', 'name': 'UFC 66: Liddell vs Ortiz 2', 'date': 'December 30, 2006'}, {'link': 'http://www.ufcstats.com/event-details/21b8a0f5c231096f', 'name': 'UFC Fight Night: Sanchez vs Riggs', 'date': 'December 13, 2006'}, {'link': 'http://www.ufcstats.com/event-details/3fed746acfd026dd', 'name': 'UFC 65: Bad Intentions', 'date': 'November 18, 2006'}, {'link': 'http://www.ufcstats.com/event-details/baf942f4bcb09894', 'name': 'The Ultimate Fighter: The Comeback Finale', 'date': 'November 11, 2006'}, {'link': 'http://www.ufcstats.com/event-details/13b2f59210dda9cc', 'name': 'UFC 64: Unstoppable', 'date': 'October 14, 2006'}, {'link': 'http://www.ufcstats.com/event-details/577ec7e108b94be3', 'name': 'Ortiz vs Shamrock 3: The Final Chapter', 'date': 'October 10, 2006'}, {'link': 'http://www.ufcstats.com/event-details/13e62d766b709aa6', 'name': 'UFC 63: Hughes vs Penn', 'date': 'September 23, 2006'}, {'link': 'http://www.ufcstats.com/event-details/f717b6002486f73f', 'name': 'UFC 62: Liddell vs Sobral', 'date': 'August 26, 2006'}, {'link': 'http://www.ufcstats.com/event-details/46c8ec317aff28ac', 'name': 'UFC Fight Night 6', 'date': 'August 17, 2006'}, {'link': 'http://www.ufcstats.com/event-details/f70144caea5c4c80', 'name': 'UFC 61: Bitter Rivals', 'date': 'July 08, 2006'}, {'link': 'http://www.ufcstats.com/event-details/445a98acb8985970', 'name': 'UFC Fight Night 5', 'date': 'June 28, 2006'}, {'link': 'http://www.ufcstats.com/event-details/1dab0d1d81dd06db', 'name': 'The Ultimate Fighter: Team Ortiz vs. Team Shamrock Finale', 'date': 'June 24, 2006'}, {'link': 'http://www.ufcstats.com/event-details/a54a35a670d8e852', 'name': 'UFC 60: Hughes vs Gracie', 'date': 'May 27, 2006'}, {'link': 'http://www.ufcstats.com/event-details/03688dc3c3af3ac1', 'name': 'UFC 59: Reality Check', 'date': 'April 15, 2006'}, {'link': 'http://www.ufcstats.com/event-details/b361180739bed4b0', 'name': 'UFC Fight Night 4', 'date': 'April 06, 2006'}, {'link': 'http://www.ufcstats.com/event-details/0e9869d712e81f8f', 'name': 'UFC 58: USA vs Canada', 'date': 'March 04, 2006'}, {'link': 'http://www.ufcstats.com/event-details/977081bc01197656', 'name': 'UFC 57: Liddell vs Couture 3', 'date': 'February 04, 2006'}, {'link': 'http://www.ufcstats.com/event-details/2ee09ec2a0695eb9', 'name': 'UFC Fight Night 3', 'date': 'January 16, 2006'}, {'link': 'http://www.ufcstats.com/event-details/c7e9d15cfce52f1d', 'name': 'UFC 56: Full Force', 'date': 'November 19, 2005'}, {'link': 'http://www.ufcstats.com/event-details/31ceaf0e670c1578', 'name': 'The Ultimate Fighter: Team Hughes vs. Team Franklin Finale', 'date': 'November 05, 2005'}, {'link': 'http://www.ufcstats.com/event-details/271fe91f4ba9d2c5', 'name': 'UFC 55: Fury', 'date': 'October 07, 2005'}, {'link': 'http://www.ufcstats.com/event-details/efaf544314bb5c2e', 'name': 'UFC Fight Night 2', 'date': 'October 03, 2005'}, {'link': 'http://www.ufcstats.com/event-details/669a3cb6e394f515', 'name': 'UFC 54: Boiling Point', 'date': 'August 20, 2005'}, {'link': 'http://www.ufcstats.com/event-details/3f24c96753dbd9f9', 'name': 'UFC Fight Night 1', 'date': 'August 06, 2005'}, {'link': 'http://www.ufcstats.com/event-details/d3711d3784b76255', 'name': 'UFC 53: Heavy Hitters', 'date': 'June 04, 2005'}, {'link': 'http://www.ufcstats.com/event-details/c933d423ebdbbbdb', 'name': 'UFC 52: Couture vs Liddell 2', 'date': 'April 16, 2005'}, {'link': 'http://www.ufcstats.com/event-details/fbbde91f7bc2d3c5', 'name': 'The Ultimate Fighter: Team Couture vs. Team Liddell Finale', 'date': 'April 09, 2005'}, {'link': 'http://www.ufcstats.com/event-details/85d905f7c4f5a1af', 'name': 'UFC 51: Super Saturday', 'date': 'February 05, 2005'}, {'link': 'http://www.ufcstats.com/event-details/ce783bf73b5131f9', 'name': \"UFC 50: The War Of '04\", 'date': 'October 22, 2004'}, {'link': 'http://www.ufcstats.com/event-details/b4bc2e3353a770b5', 'name': 'UFC 49: Unfinished Business', 'date': 'August 21, 2004'}, {'link': 'http://www.ufcstats.com/event-details/429e7d3725852ce9', 'name': 'UFC 48: Payback', 'date': 'June 19, 2004'}, {'link': 'http://www.ufcstats.com/event-details/e8fb8e53bc2e29d6', 'name': \"UFC 47: It's On!\", 'date': 'April 02, 2004'}, {'link': 'http://www.ufcstats.com/event-details/94609dd91731d428', 'name': 'UFC 46: Supernatural', 'date': 'January 31, 2004'}, {'link': 'http://www.ufcstats.com/event-details/e670f8cc2969a789', 'name': 'UFC 45: Revolution', 'date': 'November 21, 2003'}, {'link': 'http://www.ufcstats.com/event-details/c61f66d8c3fd5f07', 'name': 'UFC 44: Undisputed', 'date': 'September 26, 2003'}, {'link': 'http://www.ufcstats.com/event-details/108afe61a26bcbf4', 'name': 'UFC 43: Meltdown', 'date': 'June 06, 2003'}, {'link': 'http://www.ufcstats.com/event-details/ae58685caf8e4a0d', 'name': 'UFC 42: Sudden Impact', 'date': 'April 25, 2003'}, {'link': 'http://www.ufcstats.com/event-details/bba678d312590087', 'name': 'UFC 41: Onslaught', 'date': 'February 28, 2003'}, {'link': 'http://www.ufcstats.com/event-details/e06fd1260ac865a7', 'name': 'UFC 40: Vendetta', 'date': 'November 22, 2002'}, {'link': 'http://www.ufcstats.com/event-details/0cf935519d439ba6', 'name': 'UFC 39: The Warriors Return', 'date': 'September 27, 2002'}, {'link': 'http://www.ufcstats.com/event-details/1dc56b59cb28425d', 'name': 'UFC 38: Brawl at the Hall', 'date': 'July 13, 2002'}, {'link': 'http://www.ufcstats.com/event-details/9ccdd2ce45903f34', 'name': 'UFC 37.5: As Real As It Gets', 'date': 'June 22, 2002'}, {'link': 'http://www.ufcstats.com/event-details/9fd1f08dd4aec14a', 'name': 'UFC 37: High Impact', 'date': 'May 10, 2002'}, {'link': 'http://www.ufcstats.com/event-details/02fc8f50f56eb307', 'name': 'UFC 36: Worlds Collide', 'date': 'March 22, 2002'}, {'link': 'http://www.ufcstats.com/event-details/946f341df6472ee0', 'name': 'UFC 35: Throwdown', 'date': 'January 11, 2002'}, {'link': 'http://www.ufcstats.com/event-details/4dc496aa0cfc0d95', 'name': 'UFC 34: High Voltage', 'date': 'November 02, 2001'}, {'link': 'http://www.ufcstats.com/event-details/c75b99887c8c3f5a', 'name': 'UFC 33: Victory in Vegas', 'date': 'September 28, 2001'}, {'link': 'http://www.ufcstats.com/event-details/7b9aa973e5c04624', 'name': 'UFC 32: Showdown in the Meadowlands', 'date': 'June 29, 2001'}, {'link': 'http://www.ufcstats.com/event-details/20bd6c3e03c46ee6', 'name': 'UFC 31: Locked and Loaded', 'date': 'May 04, 2001'}, {'link': 'http://www.ufcstats.com/event-details/2b1587a3376ab743', 'name': 'UFC 30: Battle on the Boardwalk', 'date': 'February 23, 2001'}, {'link': 'http://www.ufcstats.com/event-details/08ae5cd9aef7ddd3', 'name': 'UFC 29: Defense of the Belts', 'date': 'December 16, 2000'}, {'link': 'http://www.ufcstats.com/event-details/da6dfd09cca1d705', 'name': 'UFC 28: High Stakes', 'date': 'November 17, 2000'}, {'link': 'http://www.ufcstats.com/event-details/31652c9267606d54', 'name': 'UFC 27: Ultimate Bad Boyz', 'date': 'September 22, 2000'}, {'link': 'http://www.ufcstats.com/event-details/cedfdf8d423d500c', 'name': 'UFC 26: Ultimate Field Of Dreams', 'date': 'June 09, 2000'}, {'link': 'http://www.ufcstats.com/event-details/d2b1c1317a39f6c6', 'name': 'UFC 25: Ultimate Japan 3', 'date': 'April 14, 2000'}, {'link': 'http://www.ufcstats.com/event-details/20ec0061400178ca', 'name': 'UFC 24: First Defense', 'date': 'March 10, 2000'}, {'link': 'http://www.ufcstats.com/event-details/a8fa0c4e95512806', 'name': 'UFC 23: Ultimate Japan 2', 'date': 'November 19, 1999'}, {'link': 'http://www.ufcstats.com/event-details/afaad7d6a581e307', 'name': 'UFC 22: Only One Can be Champion', 'date': 'September 24, 1999'}, {'link': 'http://www.ufcstats.com/event-details/1a1a4d7a29041d77', 'name': 'UFC 21: Return of the Champions', 'date': 'July 16, 1999'}, {'link': 'http://www.ufcstats.com/event-details/a7b48e18ca27795d', 'name': 'UFC 20: Battle for the Gold', 'date': 'May 07, 1999'}, {'link': 'http://www.ufcstats.com/event-details/a220be6d41d6f97d', 'name': 'UFC 19: Ultimate Young Guns', 'date': 'March 05, 1999'}, {'link': 'http://www.ufcstats.com/event-details/c9bbf1a0285a8076', 'name': 'UFC 18: The Road to the Heavyweight Title', 'date': 'January 08, 1999'}, {'link': 'http://www.ufcstats.com/event-details/32a3025d5db456ae', 'name': 'UFC - Ultimate Brazil', 'date': 'October 16, 1998'}, {'link': 'http://www.ufcstats.com/event-details/4a01dc8376736ef5', 'name': 'UFC 17: Redemption', 'date': 'May 15, 1998'}, {'link': 'http://www.ufcstats.com/event-details/749685d24e2cac50', 'name': 'UFC 16: Battle in the Bayou', 'date': 'March 13, 1998'}, {'link': 'http://www.ufcstats.com/event-details/29f935654825331b', 'name': 'UFC - Ultimate Japan', 'date': 'December 21, 1997'}, {'link': 'http://www.ufcstats.com/event-details/07a18ae55dfc3cd9', 'name': 'UFC 15: Collision Course', 'date': 'October 17, 1997'}, {'link': 'http://www.ufcstats.com/event-details/dc950d59dc590aca', 'name': 'UFC 14: Showdown', 'date': 'July 27, 1997'}, {'link': 'http://www.ufcstats.com/event-details/5bd533d50c8e7b8a', 'name': 'UFC 13: The Ultimate Force', 'date': 'May 30, 1997'}, {'link': 'http://www.ufcstats.com/event-details/96eff1a628adcc7f', 'name': 'UFC 12: Judgement Day', 'date': 'February 07, 1997'}, {'link': 'http://www.ufcstats.com/event-details/9b5b5a75523728f3', 'name': \"UFC - Ultimate Ultimate '96\", 'date': 'December 07, 1996'}, {'link': 'http://www.ufcstats.com/event-details/6ceff86fae4f6b3b', 'name': 'UFC 11: The Proving Ground', 'date': 'September 20, 1996'}, {'link': 'http://www.ufcstats.com/event-details/aee8eecfc4bfb1e7', 'name': 'UFC 10: The Tournament', 'date': 'July 12, 1996'}, {'link': 'http://www.ufcstats.com/event-details/a390eb8a9b2df298', 'name': 'UFC 9: Motor City Madness', 'date': 'May 17, 1996'}, {'link': 'http://www.ufcstats.com/event-details/b63e800c18e011b5', 'name': 'UFC 8: David vs Goliath', 'date': 'February 16, 1996'}, {'link': 'http://www.ufcstats.com/event-details/31bbd46d57dfbcb7', 'name': \"UFC - Ultimate Ultimate '95\", 'date': 'December 16, 1995'}, {'link': 'http://www.ufcstats.com/event-details/5af480a3b2e1726b', 'name': 'UFC 7: The Brawl in Buffalo', 'date': 'September 08, 1995'}, {'link': 'http://www.ufcstats.com/event-details/1c3f5e85b59ec710', 'name': 'UFC 6: Clash of the Titans', 'date': 'July 14, 1995'}, {'link': 'http://www.ufcstats.com/event-details/dedc3bb440d09554', 'name': 'UFC 5: The Return of the Beast', 'date': 'April 07, 1995'}, {'link': 'http://www.ufcstats.com/event-details/b60391da771deefe', 'name': 'UFC 4: Revenge of the Warriors', 'date': 'December 16, 1994'}, {'link': 'http://www.ufcstats.com/event-details/1a49e0670dfaca31', 'name': 'UFC 3: The American Dream', 'date': 'September 09, 1994'}, {'link': 'http://www.ufcstats.com/event-details/a6a9ab5a824e8f66', 'name': 'UFC 2: No Way Out', 'date': 'March 11, 1994'}]\n"
     ]
    }
   ],
   "source": [
    "import requests\n",
    "from bs4 import BeautifulSoup\n",
    "\n",
    "def extract_html(url):\n",
    "    try:\n",
    "        response = requests.get(url, headers={'User-Agent': 'Mozilla/5.0'})\n",
    "        html_content  = BeautifulSoup(response.content, 'html.parser')\n",
    "        return html_content\n",
    "    except Exception as e:\n",
    "        print(\"Failed to fetch the URL\", url, \":\", e)\n",
    "\n",
    "base_url = \"http://www.ufcstats.com/statistics/events/completed?page=all\"\n",
    "\n",
    "try:\n",
    "    html_content = extract_html(base_url)\n",
    "    events = []\n",
    "\n",
    "    for i in html_content.select('i.b-statistics__table-content'):\n",
    "        a_tag = i.select_one('a.b-link.b-link_style_black')\n",
    "        span_tag = i.select_one('span.b-statistics__date')\n",
    "        \n",
    "        if a_tag and span_tag:\n",
    "            event_link = a_tag['href']\n",
    "            event_name = a_tag.text.strip()\n",
    "            event_date = span_tag.text.strip()\n",
    "\n",
    "            events.append({\n",
    "                'link': event_link,\n",
    "                'name': event_name,\n",
    "                'date': event_date,\n",
    "            })\n",
    "\n",
    "except Exception as e:\n",
    "    print(\"Failed to scrape the base url:\", e)\n",
    "\n",
    "print(events)"
   ]
  },
  {
   "cell_type": "code",
   "execution_count": 5,
   "metadata": {},
   "outputs": [],
   "source": [
    "df_dates = pd.read_csv('fight_card_dates.csv')\n",
    "df_dates = df_dates.rename({'name':'event_name'}, axis=1)"
   ]
  },
  {
   "cell_type": "code",
   "execution_count": 6,
   "metadata": {},
   "outputs": [],
   "source": [
    "merged_df = pd.merge(df, df_dates, on='event_name', how='left')"
   ]
  },
  {
   "cell_type": "code",
   "execution_count": 7,
   "metadata": {},
   "outputs": [
    {
     "data": {
      "text/plain": [
       "Index(['fight_link', 'event_name', 'first_fighter_name', 'second_fighter_name',\n",
       "       'first_fighter_KD', 'second_fighter_KD', 'first_fighter_STR',\n",
       "       'second_fighter_STR', 'first_fighter_TD', 'second_fighter_TD',\n",
       "       ...\n",
       "       'first_fighter_round_5_CLINCH_attempted',\n",
       "       'second_fighter_round_5_CLINCH_landed',\n",
       "       'second_fighter_round_5_CLINCH_attempted',\n",
       "       'first_fighter_round_5_GROUND_landed',\n",
       "       'first_fighter_round_5_GROUND_attempted',\n",
       "       'second_fighter_round_5_GROUND_landed',\n",
       "       'second_fighter_round_5_GROUND_attempted', 'Unnamed: 0', 'link',\n",
       "       'date'],\n",
       "      dtype='object', length=239)"
      ]
     },
     "execution_count": 7,
     "metadata": {},
     "output_type": "execute_result"
    }
   ],
   "source": [
    "merged_df.columns"
   ]
  },
  {
   "cell_type": "code",
   "execution_count": null,
   "metadata": {},
   "outputs": [],
   "source": [
    "merged_df.loc[:, ['first_fighter_name', 'second_fighter_name', 'event_name', 'date']]"
   ]
  },
  {
   "cell_type": "code",
   "execution_count": 27,
   "metadata": {},
   "outputs": [
    {
     "data": {
      "application/vnd.plotly.v1+json": {
       "config": {
        "plotlyServerURL": "https://plot.ly"
       },
       "data": [
        {
         "branchvalues": "total",
         "domain": {
          "x": [
           0,
           1
          ],
          "y": [
           0,
           1
          ]
         },
         "hovertemplate": "labels=%{label}<br>value=%{value}<br>parent=%{parent}<br>id=%{id}<extra></extra>",
         "ids": [
          "Total/Finish/Could Not Continue",
          "Total/Finish/Doctor's Stoppage",
          "Total/Finish/KO/TKO",
          "Total/Decision/Majority Decision",
          "Total/Decision/Split Decision",
          "Total/Finish/Submission",
          "Total/Decision/Unanimous Decision",
          "Total/Decision",
          "Total/Finish",
          "Total"
         ],
         "labels": [
          "Could Not Continue",
          "Doctor's Stoppage",
          "KO/TKO",
          "Majority Decision",
          "Split Decision",
          "Submission",
          "Unanimous Decision",
          "Decision",
          "Finish",
          "Total"
         ],
         "name": "",
         "parents": [
          "Total/Finish",
          "Total/Finish",
          "Total/Finish",
          "Total/Decision",
          "Total/Decision",
          "Total/Finish",
          "Total/Decision",
          "Total",
          "Total",
          ""
         ],
         "type": "sunburst",
         "values": [
          0.003185174,
          0.011582453,
          0.318951788,
          0.012595917,
          0.098161286,
          0.194585203,
          0.360938179,
          0.47169538200000005,
          0.5283046180000001,
          1
         ]
        }
       ],
       "layout": {
        "height": 600,
        "legend": {
         "tracegroupgap": 0
        },
        "margin": {
         "b": 10,
         "l": 10,
         "r": 10,
         "t": 10
        },
        "template": {
         "data": {
          "bar": [
           {
            "error_x": {
             "color": "rgb(36,36,36)"
            },
            "error_y": {
             "color": "rgb(36,36,36)"
            },
            "marker": {
             "line": {
              "color": "rgb(234,234,242)",
              "width": 0.5
             },
             "pattern": {
              "fillmode": "overlay",
              "size": 10,
              "solidity": 0.2
             }
            },
            "type": "bar"
           }
          ],
          "barpolar": [
           {
            "marker": {
             "line": {
              "color": "rgb(234,234,242)",
              "width": 0.5
             },
             "pattern": {
              "fillmode": "overlay",
              "size": 10,
              "solidity": 0.2
             }
            },
            "type": "barpolar"
           }
          ],
          "carpet": [
           {
            "aaxis": {
             "endlinecolor": "rgb(36,36,36)",
             "gridcolor": "white",
             "linecolor": "white",
             "minorgridcolor": "white",
             "startlinecolor": "rgb(36,36,36)"
            },
            "baxis": {
             "endlinecolor": "rgb(36,36,36)",
             "gridcolor": "white",
             "linecolor": "white",
             "minorgridcolor": "white",
             "startlinecolor": "rgb(36,36,36)"
            },
            "type": "carpet"
           }
          ],
          "choropleth": [
           {
            "colorbar": {
             "outlinewidth": 0,
             "tickcolor": "rgb(36,36,36)",
             "ticklen": 8,
             "ticks": "outside",
             "tickwidth": 2
            },
            "type": "choropleth"
           }
          ],
          "contour": [
           {
            "colorbar": {
             "outlinewidth": 0,
             "tickcolor": "rgb(36,36,36)",
             "ticklen": 8,
             "ticks": "outside",
             "tickwidth": 2
            },
            "colorscale": [
             [
              0,
              "rgb(2,4,25)"
             ],
             [
              0.06274509803921569,
              "rgb(24,15,41)"
             ],
             [
              0.12549019607843137,
              "rgb(47,23,57)"
             ],
             [
              0.18823529411764706,
              "rgb(71,28,72)"
             ],
             [
              0.25098039215686274,
              "rgb(97,30,82)"
             ],
             [
              0.3137254901960784,
              "rgb(123,30,89)"
             ],
             [
              0.3764705882352941,
              "rgb(150,27,91)"
             ],
             [
              0.4392156862745098,
              "rgb(177,22,88)"
             ],
             [
              0.5019607843137255,
              "rgb(203,26,79)"
             ],
             [
              0.5647058823529412,
              "rgb(223,47,67)"
             ],
             [
              0.6274509803921569,
              "rgb(236,76,61)"
             ],
             [
              0.6901960784313725,
              "rgb(242,107,73)"
             ],
             [
              0.7529411764705882,
              "rgb(244,135,95)"
             ],
             [
              0.8156862745098039,
              "rgb(245,162,122)"
             ],
             [
              0.8784313725490196,
              "rgb(246,188,153)"
             ],
             [
              0.9411764705882353,
              "rgb(247,212,187)"
             ],
             [
              1,
              "rgb(250,234,220)"
             ]
            ],
            "type": "contour"
           }
          ],
          "contourcarpet": [
           {
            "colorbar": {
             "outlinewidth": 0,
             "tickcolor": "rgb(36,36,36)",
             "ticklen": 8,
             "ticks": "outside",
             "tickwidth": 2
            },
            "type": "contourcarpet"
           }
          ],
          "heatmap": [
           {
            "colorbar": {
             "outlinewidth": 0,
             "tickcolor": "rgb(36,36,36)",
             "ticklen": 8,
             "ticks": "outside",
             "tickwidth": 2
            },
            "colorscale": [
             [
              0,
              "rgb(2,4,25)"
             ],
             [
              0.06274509803921569,
              "rgb(24,15,41)"
             ],
             [
              0.12549019607843137,
              "rgb(47,23,57)"
             ],
             [
              0.18823529411764706,
              "rgb(71,28,72)"
             ],
             [
              0.25098039215686274,
              "rgb(97,30,82)"
             ],
             [
              0.3137254901960784,
              "rgb(123,30,89)"
             ],
             [
              0.3764705882352941,
              "rgb(150,27,91)"
             ],
             [
              0.4392156862745098,
              "rgb(177,22,88)"
             ],
             [
              0.5019607843137255,
              "rgb(203,26,79)"
             ],
             [
              0.5647058823529412,
              "rgb(223,47,67)"
             ],
             [
              0.6274509803921569,
              "rgb(236,76,61)"
             ],
             [
              0.6901960784313725,
              "rgb(242,107,73)"
             ],
             [
              0.7529411764705882,
              "rgb(244,135,95)"
             ],
             [
              0.8156862745098039,
              "rgb(245,162,122)"
             ],
             [
              0.8784313725490196,
              "rgb(246,188,153)"
             ],
             [
              0.9411764705882353,
              "rgb(247,212,187)"
             ],
             [
              1,
              "rgb(250,234,220)"
             ]
            ],
            "type": "heatmap"
           }
          ],
          "heatmapgl": [
           {
            "colorbar": {
             "outlinewidth": 0,
             "tickcolor": "rgb(36,36,36)",
             "ticklen": 8,
             "ticks": "outside",
             "tickwidth": 2
            },
            "colorscale": [
             [
              0,
              "rgb(2,4,25)"
             ],
             [
              0.06274509803921569,
              "rgb(24,15,41)"
             ],
             [
              0.12549019607843137,
              "rgb(47,23,57)"
             ],
             [
              0.18823529411764706,
              "rgb(71,28,72)"
             ],
             [
              0.25098039215686274,
              "rgb(97,30,82)"
             ],
             [
              0.3137254901960784,
              "rgb(123,30,89)"
             ],
             [
              0.3764705882352941,
              "rgb(150,27,91)"
             ],
             [
              0.4392156862745098,
              "rgb(177,22,88)"
             ],
             [
              0.5019607843137255,
              "rgb(203,26,79)"
             ],
             [
              0.5647058823529412,
              "rgb(223,47,67)"
             ],
             [
              0.6274509803921569,
              "rgb(236,76,61)"
             ],
             [
              0.6901960784313725,
              "rgb(242,107,73)"
             ],
             [
              0.7529411764705882,
              "rgb(244,135,95)"
             ],
             [
              0.8156862745098039,
              "rgb(245,162,122)"
             ],
             [
              0.8784313725490196,
              "rgb(246,188,153)"
             ],
             [
              0.9411764705882353,
              "rgb(247,212,187)"
             ],
             [
              1,
              "rgb(250,234,220)"
             ]
            ],
            "type": "heatmapgl"
           }
          ],
          "histogram": [
           {
            "marker": {
             "pattern": {
              "fillmode": "overlay",
              "size": 10,
              "solidity": 0.2
             }
            },
            "type": "histogram"
           }
          ],
          "histogram2d": [
           {
            "colorbar": {
             "outlinewidth": 0,
             "tickcolor": "rgb(36,36,36)",
             "ticklen": 8,
             "ticks": "outside",
             "tickwidth": 2
            },
            "colorscale": [
             [
              0,
              "rgb(2,4,25)"
             ],
             [
              0.06274509803921569,
              "rgb(24,15,41)"
             ],
             [
              0.12549019607843137,
              "rgb(47,23,57)"
             ],
             [
              0.18823529411764706,
              "rgb(71,28,72)"
             ],
             [
              0.25098039215686274,
              "rgb(97,30,82)"
             ],
             [
              0.3137254901960784,
              "rgb(123,30,89)"
             ],
             [
              0.3764705882352941,
              "rgb(150,27,91)"
             ],
             [
              0.4392156862745098,
              "rgb(177,22,88)"
             ],
             [
              0.5019607843137255,
              "rgb(203,26,79)"
             ],
             [
              0.5647058823529412,
              "rgb(223,47,67)"
             ],
             [
              0.6274509803921569,
              "rgb(236,76,61)"
             ],
             [
              0.6901960784313725,
              "rgb(242,107,73)"
             ],
             [
              0.7529411764705882,
              "rgb(244,135,95)"
             ],
             [
              0.8156862745098039,
              "rgb(245,162,122)"
             ],
             [
              0.8784313725490196,
              "rgb(246,188,153)"
             ],
             [
              0.9411764705882353,
              "rgb(247,212,187)"
             ],
             [
              1,
              "rgb(250,234,220)"
             ]
            ],
            "type": "histogram2d"
           }
          ],
          "histogram2dcontour": [
           {
            "colorbar": {
             "outlinewidth": 0,
             "tickcolor": "rgb(36,36,36)",
             "ticklen": 8,
             "ticks": "outside",
             "tickwidth": 2
            },
            "colorscale": [
             [
              0,
              "rgb(2,4,25)"
             ],
             [
              0.06274509803921569,
              "rgb(24,15,41)"
             ],
             [
              0.12549019607843137,
              "rgb(47,23,57)"
             ],
             [
              0.18823529411764706,
              "rgb(71,28,72)"
             ],
             [
              0.25098039215686274,
              "rgb(97,30,82)"
             ],
             [
              0.3137254901960784,
              "rgb(123,30,89)"
             ],
             [
              0.3764705882352941,
              "rgb(150,27,91)"
             ],
             [
              0.4392156862745098,
              "rgb(177,22,88)"
             ],
             [
              0.5019607843137255,
              "rgb(203,26,79)"
             ],
             [
              0.5647058823529412,
              "rgb(223,47,67)"
             ],
             [
              0.6274509803921569,
              "rgb(236,76,61)"
             ],
             [
              0.6901960784313725,
              "rgb(242,107,73)"
             ],
             [
              0.7529411764705882,
              "rgb(244,135,95)"
             ],
             [
              0.8156862745098039,
              "rgb(245,162,122)"
             ],
             [
              0.8784313725490196,
              "rgb(246,188,153)"
             ],
             [
              0.9411764705882353,
              "rgb(247,212,187)"
             ],
             [
              1,
              "rgb(250,234,220)"
             ]
            ],
            "type": "histogram2dcontour"
           }
          ],
          "mesh3d": [
           {
            "colorbar": {
             "outlinewidth": 0,
             "tickcolor": "rgb(36,36,36)",
             "ticklen": 8,
             "ticks": "outside",
             "tickwidth": 2
            },
            "type": "mesh3d"
           }
          ],
          "parcoords": [
           {
            "line": {
             "colorbar": {
              "outlinewidth": 0,
              "tickcolor": "rgb(36,36,36)",
              "ticklen": 8,
              "ticks": "outside",
              "tickwidth": 2
             }
            },
            "type": "parcoords"
           }
          ],
          "pie": [
           {
            "automargin": true,
            "type": "pie"
           }
          ],
          "scatter": [
           {
            "fillpattern": {
             "fillmode": "overlay",
             "size": 10,
             "solidity": 0.2
            },
            "type": "scatter"
           }
          ],
          "scatter3d": [
           {
            "line": {
             "colorbar": {
              "outlinewidth": 0,
              "tickcolor": "rgb(36,36,36)",
              "ticklen": 8,
              "ticks": "outside",
              "tickwidth": 2
             }
            },
            "marker": {
             "colorbar": {
              "outlinewidth": 0,
              "tickcolor": "rgb(36,36,36)",
              "ticklen": 8,
              "ticks": "outside",
              "tickwidth": 2
             }
            },
            "type": "scatter3d"
           }
          ],
          "scattercarpet": [
           {
            "marker": {
             "colorbar": {
              "outlinewidth": 0,
              "tickcolor": "rgb(36,36,36)",
              "ticklen": 8,
              "ticks": "outside",
              "tickwidth": 2
             }
            },
            "type": "scattercarpet"
           }
          ],
          "scattergeo": [
           {
            "marker": {
             "colorbar": {
              "outlinewidth": 0,
              "tickcolor": "rgb(36,36,36)",
              "ticklen": 8,
              "ticks": "outside",
              "tickwidth": 2
             }
            },
            "type": "scattergeo"
           }
          ],
          "scattergl": [
           {
            "marker": {
             "colorbar": {
              "outlinewidth": 0,
              "tickcolor": "rgb(36,36,36)",
              "ticklen": 8,
              "ticks": "outside",
              "tickwidth": 2
             }
            },
            "type": "scattergl"
           }
          ],
          "scattermapbox": [
           {
            "marker": {
             "colorbar": {
              "outlinewidth": 0,
              "tickcolor": "rgb(36,36,36)",
              "ticklen": 8,
              "ticks": "outside",
              "tickwidth": 2
             }
            },
            "type": "scattermapbox"
           }
          ],
          "scatterpolar": [
           {
            "marker": {
             "colorbar": {
              "outlinewidth": 0,
              "tickcolor": "rgb(36,36,36)",
              "ticklen": 8,
              "ticks": "outside",
              "tickwidth": 2
             }
            },
            "type": "scatterpolar"
           }
          ],
          "scatterpolargl": [
           {
            "marker": {
             "colorbar": {
              "outlinewidth": 0,
              "tickcolor": "rgb(36,36,36)",
              "ticklen": 8,
              "ticks": "outside",
              "tickwidth": 2
             }
            },
            "type": "scatterpolargl"
           }
          ],
          "scatterternary": [
           {
            "marker": {
             "colorbar": {
              "outlinewidth": 0,
              "tickcolor": "rgb(36,36,36)",
              "ticklen": 8,
              "ticks": "outside",
              "tickwidth": 2
             }
            },
            "type": "scatterternary"
           }
          ],
          "surface": [
           {
            "colorbar": {
             "outlinewidth": 0,
             "tickcolor": "rgb(36,36,36)",
             "ticklen": 8,
             "ticks": "outside",
             "tickwidth": 2
            },
            "colorscale": [
             [
              0,
              "rgb(2,4,25)"
             ],
             [
              0.06274509803921569,
              "rgb(24,15,41)"
             ],
             [
              0.12549019607843137,
              "rgb(47,23,57)"
             ],
             [
              0.18823529411764706,
              "rgb(71,28,72)"
             ],
             [
              0.25098039215686274,
              "rgb(97,30,82)"
             ],
             [
              0.3137254901960784,
              "rgb(123,30,89)"
             ],
             [
              0.3764705882352941,
              "rgb(150,27,91)"
             ],
             [
              0.4392156862745098,
              "rgb(177,22,88)"
             ],
             [
              0.5019607843137255,
              "rgb(203,26,79)"
             ],
             [
              0.5647058823529412,
              "rgb(223,47,67)"
             ],
             [
              0.6274509803921569,
              "rgb(236,76,61)"
             ],
             [
              0.6901960784313725,
              "rgb(242,107,73)"
             ],
             [
              0.7529411764705882,
              "rgb(244,135,95)"
             ],
             [
              0.8156862745098039,
              "rgb(245,162,122)"
             ],
             [
              0.8784313725490196,
              "rgb(246,188,153)"
             ],
             [
              0.9411764705882353,
              "rgb(247,212,187)"
             ],
             [
              1,
              "rgb(250,234,220)"
             ]
            ],
            "type": "surface"
           }
          ],
          "table": [
           {
            "cells": {
             "fill": {
              "color": "rgb(231,231,240)"
             },
             "line": {
              "color": "white"
             }
            },
            "header": {
             "fill": {
              "color": "rgb(183,183,191)"
             },
             "line": {
              "color": "white"
             }
            },
            "type": "table"
           }
          ]
         },
         "layout": {
          "annotationdefaults": {
           "arrowcolor": "rgb(67,103,167)"
          },
          "autotypenumbers": "strict",
          "coloraxis": {
           "colorbar": {
            "outlinewidth": 0,
            "tickcolor": "rgb(36,36,36)",
            "ticklen": 8,
            "ticks": "outside",
            "tickwidth": 2
           }
          },
          "colorscale": {
           "sequential": [
            [
             0,
             "rgb(2,4,25)"
            ],
            [
             0.06274509803921569,
             "rgb(24,15,41)"
            ],
            [
             0.12549019607843137,
             "rgb(47,23,57)"
            ],
            [
             0.18823529411764706,
             "rgb(71,28,72)"
            ],
            [
             0.25098039215686274,
             "rgb(97,30,82)"
            ],
            [
             0.3137254901960784,
             "rgb(123,30,89)"
            ],
            [
             0.3764705882352941,
             "rgb(150,27,91)"
            ],
            [
             0.4392156862745098,
             "rgb(177,22,88)"
            ],
            [
             0.5019607843137255,
             "rgb(203,26,79)"
            ],
            [
             0.5647058823529412,
             "rgb(223,47,67)"
            ],
            [
             0.6274509803921569,
             "rgb(236,76,61)"
            ],
            [
             0.6901960784313725,
             "rgb(242,107,73)"
            ],
            [
             0.7529411764705882,
             "rgb(244,135,95)"
            ],
            [
             0.8156862745098039,
             "rgb(245,162,122)"
            ],
            [
             0.8784313725490196,
             "rgb(246,188,153)"
            ],
            [
             0.9411764705882353,
             "rgb(247,212,187)"
            ],
            [
             1,
             "rgb(250,234,220)"
            ]
           ],
           "sequentialminus": [
            [
             0,
             "rgb(2,4,25)"
            ],
            [
             0.06274509803921569,
             "rgb(24,15,41)"
            ],
            [
             0.12549019607843137,
             "rgb(47,23,57)"
            ],
            [
             0.18823529411764706,
             "rgb(71,28,72)"
            ],
            [
             0.25098039215686274,
             "rgb(97,30,82)"
            ],
            [
             0.3137254901960784,
             "rgb(123,30,89)"
            ],
            [
             0.3764705882352941,
             "rgb(150,27,91)"
            ],
            [
             0.4392156862745098,
             "rgb(177,22,88)"
            ],
            [
             0.5019607843137255,
             "rgb(203,26,79)"
            ],
            [
             0.5647058823529412,
             "rgb(223,47,67)"
            ],
            [
             0.6274509803921569,
             "rgb(236,76,61)"
            ],
            [
             0.6901960784313725,
             "rgb(242,107,73)"
            ],
            [
             0.7529411764705882,
             "rgb(244,135,95)"
            ],
            [
             0.8156862745098039,
             "rgb(245,162,122)"
            ],
            [
             0.8784313725490196,
             "rgb(246,188,153)"
            ],
            [
             0.9411764705882353,
             "rgb(247,212,187)"
            ],
            [
             1,
             "rgb(250,234,220)"
            ]
           ]
          },
          "colorway": [
           "rgb(76,114,176)",
           "rgb(221,132,82)",
           "rgb(85,168,104)",
           "rgb(196,78,82)",
           "rgb(129,114,179)",
           "rgb(147,120,96)",
           "rgb(218,139,195)",
           "rgb(140,140,140)",
           "rgb(204,185,116)",
           "rgb(100,181,205)"
          ],
          "font": {
           "color": "rgb(36,36,36)"
          },
          "geo": {
           "bgcolor": "white",
           "lakecolor": "white",
           "landcolor": "rgb(234,234,242)",
           "showlakes": true,
           "showland": true,
           "subunitcolor": "white"
          },
          "hoverlabel": {
           "align": "left"
          },
          "hovermode": "closest",
          "paper_bgcolor": "white",
          "plot_bgcolor": "rgb(234,234,242)",
          "polar": {
           "angularaxis": {
            "gridcolor": "white",
            "linecolor": "white",
            "showgrid": true,
            "ticks": ""
           },
           "bgcolor": "rgb(234,234,242)",
           "radialaxis": {
            "gridcolor": "white",
            "linecolor": "white",
            "showgrid": true,
            "ticks": ""
           }
          },
          "scene": {
           "xaxis": {
            "backgroundcolor": "rgb(234,234,242)",
            "gridcolor": "white",
            "gridwidth": 2,
            "linecolor": "white",
            "showbackground": true,
            "showgrid": true,
            "ticks": "",
            "zerolinecolor": "white"
           },
           "yaxis": {
            "backgroundcolor": "rgb(234,234,242)",
            "gridcolor": "white",
            "gridwidth": 2,
            "linecolor": "white",
            "showbackground": true,
            "showgrid": true,
            "ticks": "",
            "zerolinecolor": "white"
           },
           "zaxis": {
            "backgroundcolor": "rgb(234,234,242)",
            "gridcolor": "white",
            "gridwidth": 2,
            "linecolor": "white",
            "showbackground": true,
            "showgrid": true,
            "ticks": "",
            "zerolinecolor": "white"
           }
          },
          "shapedefaults": {
           "fillcolor": "rgb(67,103,167)",
           "line": {
            "width": 0
           },
           "opacity": 0.5
          },
          "ternary": {
           "aaxis": {
            "gridcolor": "white",
            "linecolor": "white",
            "showgrid": true,
            "ticks": ""
           },
           "baxis": {
            "gridcolor": "white",
            "linecolor": "white",
            "showgrid": true,
            "ticks": ""
           },
           "bgcolor": "rgb(234,234,242)",
           "caxis": {
            "gridcolor": "white",
            "linecolor": "white",
            "showgrid": true,
            "ticks": ""
           }
          },
          "xaxis": {
           "automargin": true,
           "gridcolor": "white",
           "linecolor": "white",
           "showgrid": true,
           "ticks": "",
           "title": {
            "standoff": 15
           },
           "zerolinecolor": "white"
          },
          "yaxis": {
           "automargin": true,
           "gridcolor": "white",
           "linecolor": "white",
           "showgrid": true,
           "ticks": "",
           "title": {
            "standoff": 15
           },
           "zerolinecolor": "white"
          }
         }
        },
        "width": 600
       }
      }
     },
     "metadata": {},
     "output_type": "display_data"
    }
   ],
   "source": [
    "import plotly.express as px\n",
    "\n",
    "# Define your data\n",
    "data = {\n",
    "    'total': ['Total']*7,\n",
    "    'outcome': ['Decision', 'Decision', 'Decision', 'Finish', 'Finish', 'Finish', 'Finish'],\n",
    "    'type': ['Split Decision', 'Majority Decision', 'Unanimous Decision', 'KO/TKO', 'Submission', 'Doctor\\'s Stoppage', 'Could Not Continue'],\n",
    "    'value': [0.098161286, 0.012595917, 0.360938179, 0.318951788, 0.194585203, 0.011582453, 0.003185174]\n",
    "}\n",
    "\n",
    "# Create a DataFrame\n",
    "df = pd.DataFrame(data)\n",
    "\n",
    "# Create the sunburst chart\n",
    "fig = px.sunburst(df, path=['total', 'outcome', 'type'], values='value',\n",
    "                  template = 'seaborn',\n",
    "                  width=600, height=600)\n",
    "\n",
    "fig.update_layout(\n",
    "    margin = dict(t=10, l=10, r=10, b=10)\n",
    ")\n",
    "\n",
    "# Display the figure\n",
    "fig.show()\n"
   ]
  },
  {
   "cell_type": "code",
   "execution_count": 21,
   "metadata": {},
   "outputs": [
    {
     "data": {
      "application/vnd.plotly.v1+json": {
       "config": {
        "plotlyServerURL": "https://plot.ly"
       },
       "data": [
        {
         "branchvalues": "total",
         "domain": {
          "x": [
           0,
           1
          ],
          "y": [
           0,
           1
          ]
         },
         "hovertemplate": "labels=%{label}<br>value=%{value}<br>parent=%{parent}<br>id=%{id}<extra></extra>",
         "ids": [
          "Total/Finish/Could Not Continue",
          "Total/Decision/Decision - Majority",
          "Total/Decision/Decision - Split",
          "Total/Decision/Decision - Unanimous",
          "Total/Finish/KO/TKO",
          "Total/Finish/Submission",
          "Total/Finish/TKO - Doctor's Stoppage",
          "Total/Decision",
          "Total/Finish",
          "Total"
         ],
         "labels": [
          "Could Not Continue",
          "Decision - Majority",
          "Decision - Split",
          "Decision - Unanimous",
          "KO/TKO",
          "Submission",
          "TKO - Doctor's Stoppage",
          "Decision",
          "Finish",
          "Total"
         ],
         "marker": {
          "line": {
           "color": "#000000",
           "width": 2
          }
         },
         "name": "",
         "parents": [
          "Total/Finish",
          "Total/Decision",
          "Total/Decision",
          "Total/Decision",
          "Total/Finish",
          "Total/Finish",
          "Total/Finish",
          "Total",
          "Total",
          ""
         ],
         "textfont": {
          "size": 12
         },
         "textinfo": "label+percent root",
         "type": "treemap",
         "values": [
          0.003185174,
          0.012595917,
          0.098161286,
          0.360938179,
          0.318951788,
          0.194585203,
          0.011582453,
          0.47169538200000005,
          0.5283046180000001,
          1
         ]
        }
       ],
       "layout": {
        "height": 600,
        "legend": {
         "tracegroupgap": 0
        },
        "margin": {
         "b": 0,
         "l": 0,
         "r": 0,
         "t": 50
        },
        "template": {
         "data": {
          "bar": [
           {
            "error_x": {
             "color": "#2a3f5f"
            },
            "error_y": {
             "color": "#2a3f5f"
            },
            "marker": {
             "line": {
              "color": "#E5ECF6",
              "width": 0.5
             },
             "pattern": {
              "fillmode": "overlay",
              "size": 10,
              "solidity": 0.2
             }
            },
            "type": "bar"
           }
          ],
          "barpolar": [
           {
            "marker": {
             "line": {
              "color": "#E5ECF6",
              "width": 0.5
             },
             "pattern": {
              "fillmode": "overlay",
              "size": 10,
              "solidity": 0.2
             }
            },
            "type": "barpolar"
           }
          ],
          "carpet": [
           {
            "aaxis": {
             "endlinecolor": "#2a3f5f",
             "gridcolor": "white",
             "linecolor": "white",
             "minorgridcolor": "white",
             "startlinecolor": "#2a3f5f"
            },
            "baxis": {
             "endlinecolor": "#2a3f5f",
             "gridcolor": "white",
             "linecolor": "white",
             "minorgridcolor": "white",
             "startlinecolor": "#2a3f5f"
            },
            "type": "carpet"
           }
          ],
          "choropleth": [
           {
            "colorbar": {
             "outlinewidth": 0,
             "ticks": ""
            },
            "type": "choropleth"
           }
          ],
          "contour": [
           {
            "colorbar": {
             "outlinewidth": 0,
             "ticks": ""
            },
            "colorscale": [
             [
              0,
              "#0d0887"
             ],
             [
              0.1111111111111111,
              "#46039f"
             ],
             [
              0.2222222222222222,
              "#7201a8"
             ],
             [
              0.3333333333333333,
              "#9c179e"
             ],
             [
              0.4444444444444444,
              "#bd3786"
             ],
             [
              0.5555555555555556,
              "#d8576b"
             ],
             [
              0.6666666666666666,
              "#ed7953"
             ],
             [
              0.7777777777777778,
              "#fb9f3a"
             ],
             [
              0.8888888888888888,
              "#fdca26"
             ],
             [
              1,
              "#f0f921"
             ]
            ],
            "type": "contour"
           }
          ],
          "contourcarpet": [
           {
            "colorbar": {
             "outlinewidth": 0,
             "ticks": ""
            },
            "type": "contourcarpet"
           }
          ],
          "heatmap": [
           {
            "colorbar": {
             "outlinewidth": 0,
             "ticks": ""
            },
            "colorscale": [
             [
              0,
              "#0d0887"
             ],
             [
              0.1111111111111111,
              "#46039f"
             ],
             [
              0.2222222222222222,
              "#7201a8"
             ],
             [
              0.3333333333333333,
              "#9c179e"
             ],
             [
              0.4444444444444444,
              "#bd3786"
             ],
             [
              0.5555555555555556,
              "#d8576b"
             ],
             [
              0.6666666666666666,
              "#ed7953"
             ],
             [
              0.7777777777777778,
              "#fb9f3a"
             ],
             [
              0.8888888888888888,
              "#fdca26"
             ],
             [
              1,
              "#f0f921"
             ]
            ],
            "type": "heatmap"
           }
          ],
          "heatmapgl": [
           {
            "colorbar": {
             "outlinewidth": 0,
             "ticks": ""
            },
            "colorscale": [
             [
              0,
              "#0d0887"
             ],
             [
              0.1111111111111111,
              "#46039f"
             ],
             [
              0.2222222222222222,
              "#7201a8"
             ],
             [
              0.3333333333333333,
              "#9c179e"
             ],
             [
              0.4444444444444444,
              "#bd3786"
             ],
             [
              0.5555555555555556,
              "#d8576b"
             ],
             [
              0.6666666666666666,
              "#ed7953"
             ],
             [
              0.7777777777777778,
              "#fb9f3a"
             ],
             [
              0.8888888888888888,
              "#fdca26"
             ],
             [
              1,
              "#f0f921"
             ]
            ],
            "type": "heatmapgl"
           }
          ],
          "histogram": [
           {
            "marker": {
             "pattern": {
              "fillmode": "overlay",
              "size": 10,
              "solidity": 0.2
             }
            },
            "type": "histogram"
           }
          ],
          "histogram2d": [
           {
            "colorbar": {
             "outlinewidth": 0,
             "ticks": ""
            },
            "colorscale": [
             [
              0,
              "#0d0887"
             ],
             [
              0.1111111111111111,
              "#46039f"
             ],
             [
              0.2222222222222222,
              "#7201a8"
             ],
             [
              0.3333333333333333,
              "#9c179e"
             ],
             [
              0.4444444444444444,
              "#bd3786"
             ],
             [
              0.5555555555555556,
              "#d8576b"
             ],
             [
              0.6666666666666666,
              "#ed7953"
             ],
             [
              0.7777777777777778,
              "#fb9f3a"
             ],
             [
              0.8888888888888888,
              "#fdca26"
             ],
             [
              1,
              "#f0f921"
             ]
            ],
            "type": "histogram2d"
           }
          ],
          "histogram2dcontour": [
           {
            "colorbar": {
             "outlinewidth": 0,
             "ticks": ""
            },
            "colorscale": [
             [
              0,
              "#0d0887"
             ],
             [
              0.1111111111111111,
              "#46039f"
             ],
             [
              0.2222222222222222,
              "#7201a8"
             ],
             [
              0.3333333333333333,
              "#9c179e"
             ],
             [
              0.4444444444444444,
              "#bd3786"
             ],
             [
              0.5555555555555556,
              "#d8576b"
             ],
             [
              0.6666666666666666,
              "#ed7953"
             ],
             [
              0.7777777777777778,
              "#fb9f3a"
             ],
             [
              0.8888888888888888,
              "#fdca26"
             ],
             [
              1,
              "#f0f921"
             ]
            ],
            "type": "histogram2dcontour"
           }
          ],
          "mesh3d": [
           {
            "colorbar": {
             "outlinewidth": 0,
             "ticks": ""
            },
            "type": "mesh3d"
           }
          ],
          "parcoords": [
           {
            "line": {
             "colorbar": {
              "outlinewidth": 0,
              "ticks": ""
             }
            },
            "type": "parcoords"
           }
          ],
          "pie": [
           {
            "automargin": true,
            "type": "pie"
           }
          ],
          "scatter": [
           {
            "fillpattern": {
             "fillmode": "overlay",
             "size": 10,
             "solidity": 0.2
            },
            "type": "scatter"
           }
          ],
          "scatter3d": [
           {
            "line": {
             "colorbar": {
              "outlinewidth": 0,
              "ticks": ""
             }
            },
            "marker": {
             "colorbar": {
              "outlinewidth": 0,
              "ticks": ""
             }
            },
            "type": "scatter3d"
           }
          ],
          "scattercarpet": [
           {
            "marker": {
             "colorbar": {
              "outlinewidth": 0,
              "ticks": ""
             }
            },
            "type": "scattercarpet"
           }
          ],
          "scattergeo": [
           {
            "marker": {
             "colorbar": {
              "outlinewidth": 0,
              "ticks": ""
             }
            },
            "type": "scattergeo"
           }
          ],
          "scattergl": [
           {
            "marker": {
             "colorbar": {
              "outlinewidth": 0,
              "ticks": ""
             }
            },
            "type": "scattergl"
           }
          ],
          "scattermapbox": [
           {
            "marker": {
             "colorbar": {
              "outlinewidth": 0,
              "ticks": ""
             }
            },
            "type": "scattermapbox"
           }
          ],
          "scatterpolar": [
           {
            "marker": {
             "colorbar": {
              "outlinewidth": 0,
              "ticks": ""
             }
            },
            "type": "scatterpolar"
           }
          ],
          "scatterpolargl": [
           {
            "marker": {
             "colorbar": {
              "outlinewidth": 0,
              "ticks": ""
             }
            },
            "type": "scatterpolargl"
           }
          ],
          "scatterternary": [
           {
            "marker": {
             "colorbar": {
              "outlinewidth": 0,
              "ticks": ""
             }
            },
            "type": "scatterternary"
           }
          ],
          "surface": [
           {
            "colorbar": {
             "outlinewidth": 0,
             "ticks": ""
            },
            "colorscale": [
             [
              0,
              "#0d0887"
             ],
             [
              0.1111111111111111,
              "#46039f"
             ],
             [
              0.2222222222222222,
              "#7201a8"
             ],
             [
              0.3333333333333333,
              "#9c179e"
             ],
             [
              0.4444444444444444,
              "#bd3786"
             ],
             [
              0.5555555555555556,
              "#d8576b"
             ],
             [
              0.6666666666666666,
              "#ed7953"
             ],
             [
              0.7777777777777778,
              "#fb9f3a"
             ],
             [
              0.8888888888888888,
              "#fdca26"
             ],
             [
              1,
              "#f0f921"
             ]
            ],
            "type": "surface"
           }
          ],
          "table": [
           {
            "cells": {
             "fill": {
              "color": "#EBF0F8"
             },
             "line": {
              "color": "white"
             }
            },
            "header": {
             "fill": {
              "color": "#C8D4E3"
             },
             "line": {
              "color": "white"
             }
            },
            "type": "table"
           }
          ]
         },
         "layout": {
          "annotationdefaults": {
           "arrowcolor": "#2a3f5f",
           "arrowhead": 0,
           "arrowwidth": 1
          },
          "autotypenumbers": "strict",
          "coloraxis": {
           "colorbar": {
            "outlinewidth": 0,
            "ticks": ""
           }
          },
          "colorscale": {
           "diverging": [
            [
             0,
             "#8e0152"
            ],
            [
             0.1,
             "#c51b7d"
            ],
            [
             0.2,
             "#de77ae"
            ],
            [
             0.3,
             "#f1b6da"
            ],
            [
             0.4,
             "#fde0ef"
            ],
            [
             0.5,
             "#f7f7f7"
            ],
            [
             0.6,
             "#e6f5d0"
            ],
            [
             0.7,
             "#b8e186"
            ],
            [
             0.8,
             "#7fbc41"
            ],
            [
             0.9,
             "#4d9221"
            ],
            [
             1,
             "#276419"
            ]
           ],
           "sequential": [
            [
             0,
             "#0d0887"
            ],
            [
             0.1111111111111111,
             "#46039f"
            ],
            [
             0.2222222222222222,
             "#7201a8"
            ],
            [
             0.3333333333333333,
             "#9c179e"
            ],
            [
             0.4444444444444444,
             "#bd3786"
            ],
            [
             0.5555555555555556,
             "#d8576b"
            ],
            [
             0.6666666666666666,
             "#ed7953"
            ],
            [
             0.7777777777777778,
             "#fb9f3a"
            ],
            [
             0.8888888888888888,
             "#fdca26"
            ],
            [
             1,
             "#f0f921"
            ]
           ],
           "sequentialminus": [
            [
             0,
             "#0d0887"
            ],
            [
             0.1111111111111111,
             "#46039f"
            ],
            [
             0.2222222222222222,
             "#7201a8"
            ],
            [
             0.3333333333333333,
             "#9c179e"
            ],
            [
             0.4444444444444444,
             "#bd3786"
            ],
            [
             0.5555555555555556,
             "#d8576b"
            ],
            [
             0.6666666666666666,
             "#ed7953"
            ],
            [
             0.7777777777777778,
             "#fb9f3a"
            ],
            [
             0.8888888888888888,
             "#fdca26"
            ],
            [
             1,
             "#f0f921"
            ]
           ]
          },
          "colorway": [
           "#636efa",
           "#EF553B",
           "#00cc96",
           "#ab63fa",
           "#FFA15A",
           "#19d3f3",
           "#FF6692",
           "#B6E880",
           "#FF97FF",
           "#FECB52"
          ],
          "font": {
           "color": "#2a3f5f"
          },
          "geo": {
           "bgcolor": "white",
           "lakecolor": "white",
           "landcolor": "#E5ECF6",
           "showlakes": true,
           "showland": true,
           "subunitcolor": "white"
          },
          "hoverlabel": {
           "align": "left"
          },
          "hovermode": "closest",
          "mapbox": {
           "style": "light"
          },
          "paper_bgcolor": "white",
          "plot_bgcolor": "#E5ECF6",
          "polar": {
           "angularaxis": {
            "gridcolor": "white",
            "linecolor": "white",
            "ticks": ""
           },
           "bgcolor": "#E5ECF6",
           "radialaxis": {
            "gridcolor": "white",
            "linecolor": "white",
            "ticks": ""
           }
          },
          "scene": {
           "xaxis": {
            "backgroundcolor": "#E5ECF6",
            "gridcolor": "white",
            "gridwidth": 2,
            "linecolor": "white",
            "showbackground": true,
            "ticks": "",
            "zerolinecolor": "white"
           },
           "yaxis": {
            "backgroundcolor": "#E5ECF6",
            "gridcolor": "white",
            "gridwidth": 2,
            "linecolor": "white",
            "showbackground": true,
            "ticks": "",
            "zerolinecolor": "white"
           },
           "zaxis": {
            "backgroundcolor": "#E5ECF6",
            "gridcolor": "white",
            "gridwidth": 2,
            "linecolor": "white",
            "showbackground": true,
            "ticks": "",
            "zerolinecolor": "white"
           }
          },
          "shapedefaults": {
           "line": {
            "color": "#2a3f5f"
           }
          },
          "ternary": {
           "aaxis": {
            "gridcolor": "white",
            "linecolor": "white",
            "ticks": ""
           },
           "baxis": {
            "gridcolor": "white",
            "linecolor": "white",
            "ticks": ""
           },
           "bgcolor": "#E5ECF6",
           "caxis": {
            "gridcolor": "white",
            "linecolor": "white",
            "ticks": ""
           }
          },
          "title": {
           "x": 0.05
          },
          "xaxis": {
           "automargin": true,
           "gridcolor": "white",
           "linecolor": "white",
           "ticks": "",
           "title": {
            "standoff": 15
           },
           "zerolinecolor": "white",
           "zerolinewidth": 2
          },
          "yaxis": {
           "automargin": true,
           "gridcolor": "white",
           "linecolor": "white",
           "ticks": "",
           "title": {
            "standoff": 15
           },
           "zerolinecolor": "white",
           "zerolinewidth": 2
          }
         }
        },
        "title": {
         "text": "Outcome Distribution"
        },
        "width": 600
       }
      }
     },
     "metadata": {},
     "output_type": "display_data"
    }
   ],
   "source": [
    "# Define your data\n",
    "data = {\n",
    "    'total': ['Total']*7,\n",
    "    'outcome': ['Decision', 'Decision', 'Decision', 'Finish', 'Finish', 'Finish', 'Finish'],\n",
    "    'type': ['Decision - Split', 'Decision - Majority', 'Decision - Unanimous', 'KO/TKO', 'Submission', 'TKO - Doctor\\'s Stoppage', 'Could Not Continue'],\n",
    "    'value': [0.098161286, 0.012595917, 0.360938179, 0.318951788, 0.194585203, 0.011582453, 0.003185174]\n",
    "}\n",
    "\n",
    "# Create a DataFrame\n",
    "df = pd.DataFrame(data)\n",
    "\n",
    "# Create the treemap\n",
    "fig = px.treemap(df, path=['total', 'outcome', 'type'], values='value',\n",
    "                 title='Outcome Distribution',\n",
    "                 width=600, height=600)\n",
    "\n",
    "fig.update_traces(textinfo=\"label+percent root\",\n",
    "                  textfont_size=12,\n",
    "                  marker=dict(line=dict(color='#000000', width=2)))\n",
    "\n",
    "fig.update_layout(\n",
    "    margin = dict(t=50, l=0, r=0, b=0)\n",
    ")\n",
    "\n",
    "# Display the figure\n",
    "fig.show()\n"
   ]
  },
  {
   "cell_type": "code",
   "execution_count": 3,
   "metadata": {},
   "outputs": [],
   "source": [
    "# Add a column to represent the winner, with the winner as 1 and the loser as 0\n",
    "df['winner'] = 1\n",
    "\n",
    "# Copy the dataframe and flip the a/b columns\n",
    "df_flipped = df.copy()\n",
    "df_flipped.columns = df.columns.str.replace('first_', 'temp_').str.replace('second_', 'first_').str.replace('temp_', 'second_')\n",
    "df_flipped['winner'] = 0\n",
    "\n",
    "# Concatenate the original and flipped dataframes\n",
    "df = pd.concat([df, df_flipped])\n",
    "\n",
    "# Randomly shuffle the rows\n",
    "df = df.sample(frac=1, random_state=42).reset_index(drop=True)"
   ]
  }
 ],
 "metadata": {
  "kernelspec": {
   "display_name": "Python 3",
   "language": "python",
   "name": "python3"
  },
  "language_info": {
   "codemirror_mode": {
    "name": "ipython",
    "version": 3
   },
   "file_extension": ".py",
   "mimetype": "text/x-python",
   "name": "python",
   "nbconvert_exporter": "python",
   "pygments_lexer": "ipython3",
   "version": "3.11.2"
  },
  "orig_nbformat": 4
 },
 "nbformat": 4,
 "nbformat_minor": 2
}
