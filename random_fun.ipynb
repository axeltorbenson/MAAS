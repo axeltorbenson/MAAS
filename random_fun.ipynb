{
 "cells": [
  {
   "attachments": {},
   "cell_type": "markdown",
   "metadata": {},
   "source": [
    "Random fun ideas:\n",
    "* Fight with the most knockdowns\n",
    "* Fight with the most sub attempts\n",
    "* Fight with the most takedowns / takedown attempts\n",
    "* etc.\n",
    "* Fit logistic regression for fights in a year using just TD and see how coef changes over time (could do the same with other strikes? Body, leg, sub)\n",
    "* Use clustering to get a list of \"banging\" fights"
   ]
  },
  {
   "attachments": {},
   "cell_type": "markdown",
   "metadata": {},
   "source": [
    "For predictive model:\n",
    "* Chin rating, power rating, cardio rating using time series, age, etc.\n",
    "* ROI calc; expected value * betting odds * money put in"
   ]
  },
  {
   "cell_type": "code",
   "execution_count": null,
   "metadata": {},
   "outputs": [],
   "source": []
  }
 ],
 "metadata": {
  "kernelspec": {
   "display_name": "Python 3",
   "language": "python",
   "name": "python3"
  },
  "language_info": {
   "name": "python",
   "version": "3.11.2"
  },
  "orig_nbformat": 4
 },
 "nbformat": 4,
 "nbformat_minor": 2
}
