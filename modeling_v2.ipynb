{
 "cells": [
  {
   "cell_type": "code",
   "execution_count": 4,
   "metadata": {},
   "outputs": [],
   "source": [
    "# modeling\n",
    "import pandas as pd\n",
    "import numpy as np\n",
    "import matplotlib.pyplot as plt\n",
    "from sklearn.model_selection import train_test_split\n",
    "from sklearn.linear_model import LogisticRegression\n",
    "from sklearn.preprocessing import StandardScaler\n",
    "from sklearn import metrics\n",
    "\n",
    "df = pd.read_csv('every_ufc_fight_model_ready.csv')"
   ]
  },
  {
   "cell_type": "code",
   "execution_count": 5,
   "metadata": {},
   "outputs": [],
   "source": [
    "filter_method = [\n",
    "    'Decision - Unanimous',\n",
    "    'Decision - Split',\n",
    "    'Decision - Majority'\n",
    "    ]\n",
    "\n",
    "# select only decisions and 3 round fights\n",
    "df_model = df[(df['method'].isin(filter_method)) & (df['number_of_rounds'] == 3)]\n",
    "\n",
    "drop_cols = [\n",
    "    'index',\n",
    "    'date',\n",
    "    'event_name',\n",
    "    'first_fighter_name',\n",
    "    'second_fighter_name',\n",
    "    'method',\n",
    "    'number_of_rounds'\n",
    "    ]\n",
    "\n",
    "df_model = df_model.drop(drop_cols, axis=1)\n",
    "df_model = df_model.dropna(axis=1)"
   ]
  },
  {
   "cell_type": "code",
   "execution_count": 41,
   "metadata": {},
   "outputs": [],
   "source": [
    "# only differences\n",
    "df_diff = df_model.copy()\n",
    "\n",
    "df_diff_first = df_model.filter(like='first').columns\n",
    "df_diff_second = df_model.filter(like='second').columns\n",
    "\n",
    "for index, value in enumerate(df_diff_first):\n",
    "    df_diff[f'diff_{index}'] = df_diff[df_diff_first[index]] - df_diff[df_diff_second[index]]\n",
    "    \n",
    "df_diff = df_diff.drop(df_diff_first.append(df_diff_second), axis=1)"
   ]
  },
  {
   "cell_type": "code",
   "execution_count": 44,
   "metadata": {},
   "outputs": [
    {
     "name": "stdout",
     "output_type": "stream",
     "text": [
      "Accuracy: 0.8228476821192053\n",
      "Precision: 0.8295819935691319\n",
      "Recall: 0.8269230769230769\n",
      "F1 Score:  0.8282504012841092\n"
     ]
    }
   ],
   "source": [
    "# Normalize the data\n",
    "columns_to_scale = df_diff.columns.drop('winner')\n",
    "scaler = StandardScaler()\n",
    "df_diff[columns_to_scale] = scaler.fit_transform(df_diff[columns_to_scale])\n",
    "\n",
    "X = df_diff.drop('winner', axis=1)\n",
    "y = df_diff['winner'].astype('category')\n",
    "\n",
    "# Splitting the data\n",
    "X_train, X_test, y_train, y_test = train_test_split(X, y, test_size=0.2, random_state=42)\n",
    "\n",
    "# Creating and training the model\n",
    "model = LogisticRegression(max_iter=1000)\n",
    "model.fit(X_train, y_train)\n",
    "\n",
    "# Testing the model\n",
    "y_pred = model.predict(X_test)\n",
    "\n",
    "# Evaluating the model\n",
    "print(\"Accuracy:\", metrics.accuracy_score(y_test, y_pred))\n",
    "print(\"Precision:\", metrics.precision_score(y_test, y_pred))\n",
    "print(\"Recall:\", metrics.recall_score(y_test, y_pred))\n",
    "print(\"F1 Score: \", metrics.f1_score(y_test, y_pred))"
   ]
  },
  {
   "cell_type": "code",
   "execution_count": 45,
   "metadata": {},
   "outputs": [
    {
     "data": {
      "image/png": "[encoded data removed]",
      "text/plain": [
       "<Figure size 1000x700 with 1 Axes>"
      ]
     },
     "metadata": {},
     "output_type": "display_data"
    }
   ],
   "source": [
    "import seaborn as sns\n",
    "import pandas as pd\n",
    "import matplotlib.pyplot as plt\n",
    "\n",
    "# Generate and print confusion matrix\n",
    "cm = metrics.confusion_matrix(y_test, y_pred)\n",
    "# Convert confusion matrix to a dataframe for better visualization\n",
    "cm_df = pd.DataFrame(cm, columns=['Predicted Negative', 'Predicted Positive'],\n",
    "                     index=['Actual Negative', 'Actual Positive'])\n",
    "\n",
    "# Plot the heatmap\n",
    "plt.figure(figsize=(10,7))\n",
    "sns.heatmap(cm_df, annot=True, fmt='d', cmap='Blues', cbar=False)\n",
    "plt.title('Confusion Matrix')\n",
    "plt.show()\n"
   ]
  },
  {
   "cell_type": "code",
   "execution_count": 45,
   "metadata": {},
   "outputs": [
    {
     "name": "stdout",
     "output_type": "stream",
     "text": [
      "                                    features      coef\n",
      "2                          first_fighter_STR  9.547261\n",
      "4                           first_fighter_TD  2.166528\n",
      "82       first_fighter_round_1_GROUND_landed  1.640387\n",
      "55   first_fighter_round_3_TOT_STR_attempted  1.589251\n",
      "73      second_fighter_round_1_LEG_attempted  1.560511\n",
      "..                                       ...       ...\n",
      "97      second_fighter_round_2_LEG_attempted  0.690417\n",
      "33  second_fighter_round_1_TOT_STR_attempted  0.657483\n",
      "83    first_fighter_round_1_GROUND_attempted  0.610839\n",
      "5                          second_fighter_TD  0.478799\n",
      "3                         second_fighter_STR  0.096585\n",
      "\n",
      "[134 rows x 2 columns]\n"
     ]
    }
   ],
   "source": [
    "# Transform coefficients to odds ratios\n",
    "odds_ratios = np.exp(model.coef_)\n",
    "\n",
    "# Create a DataFrame for easy visualization\n",
    "coef_df = pd.DataFrame({'features': X_train.columns, 'coef': odds_ratios[0]})\n",
    "# Sort by coef value\n",
    "coef_df = coef_df.sort_values('coef', ascending=False)\n",
    "\n",
    "# Display the DataFrame\n",
    "print(coef_df)"
   ]
  }
 ],
 "metadata": {
  "kernelspec": {
   "display_name": "Python 3",
   "language": "python",
   "name": "python3"
  },
  "language_info": {
   "codemirror_mode": {
    "name": "ipython",
    "version": 3
   },
   "file_extension": ".py",
   "mimetype": "text/x-python",
   "name": "python",
   "nbconvert_exporter": "python",
   "pygments_lexer": "ipython3",
   "version": "3.11.2"
  },
  "orig_nbformat": 4
 },
 "nbformat": 4,
 "nbformat_minor": 2
}
