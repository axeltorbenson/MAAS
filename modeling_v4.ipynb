{
 "cells": [
  {
   "attachments": {},
   "cell_type": "markdown",
   "metadata": {},
   "source": [
    "Notes:\n",
    "* Final Logistic Regression model\n",
    "* Look into the fights that it judged wrongly - are they split dec? Any that are good?"
   ]
  },
  {
   "cell_type": "code",
   "execution_count": 1,
   "metadata": {},
   "outputs": [],
   "source": [
    "# modeling\n",
    "import pandas as pd\n",
    "import numpy as np\n",
    "import matplotlib.pyplot as plt\n",
    "import seaborn as sns\n",
    "from sklearn.model_selection import train_test_split\n",
    "from sklearn.linear_model import LogisticRegression\n",
    "from sklearn.preprocessing import StandardScaler\n",
    "from sklearn import metrics\n",
    "\n",
    "df = pd.read_csv('every_ufc_fight_model_ready.csv')"
   ]
  },
  {
   "cell_type": "code",
   "execution_count": 2,
   "metadata": {},
   "outputs": [],
   "source": [
    "filter_method = [\n",
    "    'Decision - Unanimous',\n",
    "    'Decision - Split',\n",
    "    'Decision - Majority'\n",
    "    ]\n",
    "\n",
    "# select only decisions and 3 round fights\n",
    "df_model = df[(df['method'].isin(filter_method)) & (df['number_of_rounds'] == 3)]\n",
    "\n",
    "drop_cols = [\n",
    "    'index',\n",
    "    'date',\n",
    "    'event_name',\n",
    "    'first_fighter_name',\n",
    "    'second_fighter_name',\n",
    "    'method',\n",
    "    'number_of_rounds'\n",
    "    ]\n",
    "\n",
    "df_model = df_model.drop(drop_cols, axis=1)\n",
    "df_model = df_model.dropna(axis=1)"
   ]
  },
  {
   "cell_type": "code",
   "execution_count": 3,
   "metadata": {},
   "outputs": [],
   "source": [
    "df_full = df_model.copy()\n",
    "\n",
    "df_diff_first = df_model.filter(like='first').columns\n",
    "df_diff_second = df_model.filter(like='second').columns\n",
    "\n",
    "# create columns for the difference between first and second fighter stats\n",
    "for index, value in enumerate(df_diff_first):\n",
    "    base_col_name = df_diff_first[index].replace('first_fighter_', '')\n",
    "    df_full[f'diff_{base_col_name}'] = df_full[df_diff_first[index]] - df_full[df_diff_second[index]]"
   ]
  },
  {
   "cell_type": "code",
   "execution_count": 49,
   "metadata": {},
   "outputs": [
    {
     "name": "stdout",
     "output_type": "stream",
     "text": [
      "Accuracy: 0.8311258278145696\n",
      "Precision: 0.8453947368421053\n",
      "Recall: 0.8237179487179487\n",
      "F1 Score:  0.8344155844155844\n"
     ]
    }
   ],
   "source": [
    "# Normalize the data\n",
    "columns_to_scale = df_full.columns.drop('winner')\n",
    "scaler = StandardScaler()\n",
    "df_full[columns_to_scale] = scaler.fit_transform(df_full[columns_to_scale])\n",
    "\n",
    "X = df_full.drop('winner', axis=1)\n",
    "y = df_full['winner'].astype('category')\n",
    "\n",
    "# Splitting the data\n",
    "X_train, X_test, y_train, y_test = train_test_split(X, y, test_size=0.2, random_state=42)\n",
    "\n",
    "# Creating and training the model\n",
    "model = LogisticRegression(max_iter=1000, penalty='l1', solver='liblinear')\n",
    "model.fit(X_train, y_train)\n",
    "\n",
    "# Testing the model\n",
    "y_pred = model.predict(X_test)\n",
    "\n",
    "# Evaluating the model\n",
    "print(\"Accuracy:\", metrics.accuracy_score(y_test, y_pred))\n",
    "print(\"Precision:\", metrics.precision_score(y_test, y_pred))\n",
    "print(\"Recall:\", metrics.recall_score(y_test, y_pred))\n",
    "print(\"F1 Score: \", metrics.f1_score(y_test, y_pred))"
   ]
  },
  {
   "cell_type": "code",
   "execution_count": 50,
   "metadata": {},
   "outputs": [
    {
     "data": {
      "image/png": "[encoded data removed]",
      "text/plain": [
       "<Figure size 1000x700 with 1 Axes>"
      ]
     },
     "metadata": {},
     "output_type": "display_data"
    }
   ],
   "source": [
    "# Generate and print confusion matrix\n",
    "cm = metrics.confusion_matrix(y_test, y_pred)\n",
    "# Convert confusion matrix to a dataframe for better visualization\n",
    "cm_df = pd.DataFrame(cm, columns=['Predicted Negative', 'Predicted Positive'],\n",
    "                     index=['Actual Negative', 'Actual Positive'])\n",
    "\n",
    "# Plot the heatmap\n",
    "plt.figure(figsize=(10,7))\n",
    "sns.heatmap(cm_df, annot=True, fmt='d', cmap='Blues', cbar=False)\n",
    "plt.title('Confusion Matrix')\n",
    "plt.show()"
   ]
  },
  {
   "cell_type": "code",
   "execution_count": 51,
   "metadata": {},
   "outputs": [
    {
     "name": "stdout",
     "output_type": "stream",
     "text": [
      "                                     features      coef\n",
      "135                                  diff_STR  2.395882\n",
      "136                                   diff_TD  1.130381\n",
      "134                                   diff_KD  0.365471\n",
      "73       second_fighter_round_1_LEG_attempted  0.356695\n",
      "57   second_fighter_round_3_TOT_STR_attempted  0.347037\n",
      "..                                        ...       ...\n",
      "186             diff_round_2_CLINCH_attempted -0.194477\n",
      "174             diff_round_1_CLINCH_attempted -0.210928\n",
      "72          second_fighter_round_1_LEG_landed -0.273767\n",
      "97       second_fighter_round_2_LEG_attempted -0.284191\n",
      "83     first_fighter_round_1_GROUND_attempted -0.448759\n",
      "\n",
      "[201 rows x 2 columns]\n"
     ]
    }
   ],
   "source": [
    "# Transform coefficients to odds ratios\n",
    "odds_ratios = model.coef_\n",
    "\n",
    "# Create a DataFrame for easy visualization\n",
    "coef_df = pd.DataFrame({'features': X_train.columns, 'coef': odds_ratios[0]})\n",
    "# Sort by coef value\n",
    "coef_df = coef_df.sort_values('coef', ascending=False)\n",
    "\n",
    "# Display the DataFrame\n",
    "print(coef_df)"
   ]
  }
 ],
 "metadata": {
  "kernelspec": {
   "display_name": "Python 3",
   "language": "python",
   "name": "python3"
  },
  "language_info": {
   "codemirror_mode": {
    "name": "ipython",
    "version": 3
   },
   "file_extension": ".py",
   "mimetype": "text/x-python",
   "name": "python",
   "nbconvert_exporter": "python",
   "pygments_lexer": "ipython3",
   "version": "3.11.2"
  },
  "orig_nbformat": 4
 },
 "nbformat": 4,
 "nbformat_minor": 2
}
